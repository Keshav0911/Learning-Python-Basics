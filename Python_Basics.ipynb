{
 "cells": [
  {
   "cell_type": "code",
   "execution_count": null,
   "id": "d50aecf1-8f9b-4e16-95a0-b997fc8b8fc2",
   "metadata": {},
   "outputs": [],
   "source": []
  },
  {
   "cell_type": "code",
   "execution_count": 1,
   "id": "f810b100-3d9d-4f9f-aee3-25577a8641f2",
   "metadata": {},
   "outputs": [],
   "source": [
    "a=12\n",
    "b=4\n",
    "c=9"
   ]
  },
  {
   "cell_type": "code",
   "execution_count": 2,
   "id": "ae52b6ea-a9f7-4c8c-bfd9-7cb0e9b7fd3a",
   "metadata": {},
   "outputs": [
    {
     "data": {
      "text/plain": [
       "True"
      ]
     },
     "execution_count": 2,
     "metadata": {},
     "output_type": "execute_result"
    }
   ],
   "source": [
    "(a>=b) and (b<c) and (a<=16)"
   ]
  },
  {
   "cell_type": "code",
   "execution_count": 3,
   "id": "6086a843-626a-4f04-b8be-87a09b4f787c",
   "metadata": {},
   "outputs": [
    {
     "data": {
      "text/plain": [
       "True"
      ]
     },
     "execution_count": 3,
     "metadata": {},
     "output_type": "execute_result"
    }
   ],
   "source": [
    "(a>12) or (b<=14)"
   ]
  },
  {
   "cell_type": "code",
   "execution_count": 4,
   "id": "a0802a83-7674-470e-b8b2-8dc987048510",
   "metadata": {},
   "outputs": [
    {
     "name": "stdout",
     "output_type": "stream",
     "text": [
      "False\n",
      "True\n"
     ]
    }
   ],
   "source": [
    "a=2\n",
    "b=1\n",
    "z=(a>1) and (a>7) # z= True and False -> False\n",
    "print(z)\n",
    "print(not(z))"
   ]
  },
  {
   "cell_type": "markdown",
   "id": "6b4fed41-01e0-492d-b541-baf95ad7908a",
   "metadata": {},
   "source": [
    "## If  Statements"
   ]
  },
  {
   "cell_type": "code",
   "execution_count": 5,
   "id": "50b75b09-1238-49b1-9130-cef16aed00bb",
   "metadata": {},
   "outputs": [
    {
     "name": "stdout",
     "output_type": "stream",
     "text": [
      "8 is greater than 6\n",
      "Independent  statement\n"
     ]
    }
   ],
   "source": [
    "a=8\n",
    "if a>6:\n",
    "      print(a, \"is greater than 6\")\n",
    "print(\"Independent  statement\")"
   ]
  },
  {
   "cell_type": "code",
   "execution_count": 6,
   "id": "65a437bd-176f-4fae-89d0-ae9bdd823215",
   "metadata": {},
   "outputs": [
    {
     "name": "stdout",
     "output_type": "stream",
     "text": [
      "the person is above the age limit.\n",
      "The person age meets the condition.\n"
     ]
    }
   ],
   "source": [
    "age=21\n",
    "if age>18:\n",
    "    print(\"the person is above the age limit.\")# executed if the expression is true\n",
    "    print(\"The person age meets the condition.\") # Multiple code lines maybe part of the if block"
   ]
  },
  {
   "cell_type": "markdown",
   "id": "f017ab42-c14d-4bda-ac7b-1a48499977f7",
   "metadata": {},
   "source": [
    "## If else Statements"
   ]
  },
  {
   "cell_type": "code",
   "execution_count": 7,
   "id": "23a39fbb-ea74-490e-b332-32740f1cd206",
   "metadata": {},
   "outputs": [
    {
     "name": "stdout",
     "output_type": "stream",
     "text": [
      "12 is less\n"
     ]
    }
   ],
   "source": [
    "a=12\n",
    "if a>15:\n",
    "    print(a,\"is greater\")\n",
    "else :\n",
    "    print(a,\"is less\")"
   ]
  },
  {
   "cell_type": "markdown",
   "id": "229c72ee-0168-41f5-9dfc-a1821e3d30c2",
   "metadata": {},
   "source": [
    "## Input Function"
   ]
  },
  {
   "cell_type": "code",
   "execution_count": null,
   "id": "9bc5e38a-dccb-42ca-9fd5-9be783e28fa5",
   "metadata": {},
   "outputs": [],
   "source": [
    "a=input(\"Enter Any Number\")\n",
    "b=input(\"Enter Any Number\")\n",
    "add=a+b\n",
    "add\n",
    "# it gives 1213 because if u dont define the datatype it automatically consider that it is a string"
   ]
  },
  {
   "cell_type": "markdown",
   "id": "b2b80a72-2622-4196-9b97-5fcb984972d6",
   "metadata": {},
   "source": [
    "## elif Function"
   ]
  },
  {
   "cell_type": "code",
   "execution_count": null,
   "id": "ed087b4d-40a6-4986-8746-2046306f2583",
   "metadata": {},
   "outputs": [],
   "source": [
    "# elif can be used to check alternative conditions\n",
    "country=input(\"Name of the country: \")\n",
    "if country==country.upper():\n",
    "     print(\"The Font entered is all in Capital Case\")\n",
    "elif country==country.lower():\n",
    "     print(\"The Font entered is all in Lower Case \")\n",
    "elif country==country.capitalize():\n",
    "     print(\"The Font Recieved in Aprropriate Way \")\n",
    "else:\n",
    "    print(\"Mixed case Recieved\")\n",
    "#print(\"One of the 4 blocks of code was executed.\")"
   ]
  },
  {
   "cell_type": "code",
   "execution_count": null,
   "id": "b920837a-f993-4221-996e-cdfa6dc4234b",
   "metadata": {},
   "outputs": [],
   "source": [
    "a=(int(input(\"Enter the Number : \")))\n",
    "\n",
    "if(a%2==0):\n",
    "    print(\"A is Even\")\n",
    "else:\n",
    "    print(\"A is Odd\")"
   ]
  },
  {
   "cell_type": "code",
   "execution_count": null,
   "id": "1f4fbbc3-c7ee-4c24-ad3f-a5d282bbfa74",
   "metadata": {},
   "outputs": [],
   "source": [
    "x=int(input(\"Enter a Number\"))\n",
    "if(x>10):\n",
    "    print(\"I am in a if block\")\n",
    "elif(x==6):\n",
    "    print(\"I am in a elif block\")\n",
    "elif(x==0):\n",
    "    print(\"I am in Zero Number is Elif Block\")\n",
    "else:\n",
    "    print(\"I am in else block\")"
   ]
  },
  {
   "cell_type": "code",
   "execution_count": null,
   "id": "63f2a923-8869-4ed1-b2ad-0d55d8d8e2d6",
   "metadata": {},
   "outputs": [],
   "source": [
    "a=int(input(\"Enter a Number: \"))\n",
    "\n",
    "if(a>=0):\n",
    "    print(\"The Number is Positive\")\n",
    "else:\n",
    "    print(\"The Number is Negative\")"
   ]
  },
  {
   "cell_type": "markdown",
   "id": "fd4dc5e1-5f16-4ba6-8d32-45d1a746b899",
   "metadata": {},
   "source": [
    "## Nested If statement"
   ]
  },
  {
   "cell_type": "code",
   "execution_count": null,
   "id": "44b37604-e880-4724-b2d5-3850cc8e4a77",
   "metadata": {},
   "outputs": [],
   "source": [
    "# Marks\n",
    "\n",
    "marks=int(input(\"Enter A Marks :\"))\n",
    "\n",
    "if marks>45:\n",
    "    print(\"Student Is Pass \")\n",
    "    if (marks>75):\n",
    "        print(\"Student Pass With Distinction\")\n",
    "    else:\n",
    "        print(\"Student Pass With Not Distinction\")\n",
    "else:\n",
    "    print(\"Student Is Fail\")"
   ]
  },
  {
   "cell_type": "code",
   "execution_count": null,
   "id": "745fe033-4b64-420a-9d8d-5c71f101b4a2",
   "metadata": {},
   "outputs": [],
   "source": [
    "# WE Consider bp range 120-129 accepted as a normal\n",
    "bp_systolic=int(input(\"Enter the Current bp measurement :\"))\n",
    "\n",
    "a=120<=bp_systolic<=129\n",
    "\n",
    "if a== False: # Out of Normal\n",
    "    print(\"The Blood pressure of the patient is out of normal range\")\n",
    "    if (bp_systolic<90):\n",
    "        print(\"A case of low blood pressure\")\n",
    "        print (\"Advised to stay hydrated with regular intake of fluids\")\n",
    "    elif(bp_systolic>=130):\n",
    "        print(\"A case of high blood pressure\")\n",
    "        print(\"30 minutes of daily walk recommended.\")\n",
    "    else:\n",
    "        print(\"Not Necessarily low bp but fluid intake to be increased\")\n",
    "\n",
    "else:\n",
    "    print(\"Blood pressure is in the normal range\")"
   ]
  },
  {
   "cell_type": "markdown",
   "id": "14c230b6-30d6-4d0b-9d01-615652058ea3",
   "metadata": {},
   "source": [
    "## Datetime Module"
   ]
  },
  {
   "cell_type": "code",
   "execution_count": 1,
   "id": "31a63907-a388-4b5d-bdbc-2f423d2eab44",
   "metadata": {},
   "outputs": [],
   "source": [
    "import datetime"
   ]
  },
  {
   "cell_type": "code",
   "execution_count": 2,
   "id": "1857fed1-fff7-442a-8fc0-73d7c67bceb9",
   "metadata": {},
   "outputs": [],
   "source": [
    "from datetime import date"
   ]
  },
  {
   "cell_type": "code",
   "execution_count": 3,
   "id": "41ad0920-84db-4f92-992e-6e06deda5fb6",
   "metadata": {},
   "outputs": [
    {
     "name": "stdout",
     "output_type": "stream",
     "text": [
      "2025-10-06\n"
     ]
    }
   ],
   "source": [
    "age=date(2025,10,6)\n",
    "print(age)"
   ]
  },
  {
   "cell_type": "code",
   "execution_count": 4,
   "id": "79c0421e-d5ff-485a-9901-2bf555de916b",
   "metadata": {},
   "outputs": [
    {
     "data": {
      "text/plain": [
       "1"
      ]
     },
     "execution_count": 4,
     "metadata": {},
     "output_type": "execute_result"
    }
   ],
   "source": [
    "# .isoweekday function is used to show that which day is on that day means if on that day have monday it gives 1 in return ,tuesday 2 like that...\n",
    "age.isoweekday()"
   ]
  },
  {
   "cell_type": "code",
   "execution_count": 5,
   "id": "4cba1af1-a326-4e2e-aa40-2de523b0d042",
   "metadata": {},
   "outputs": [
    {
     "data": {
      "text/plain": [
       "2025"
      ]
     },
     "execution_count": 5,
     "metadata": {},
     "output_type": "execute_result"
    }
   ],
   "source": [
    "age.year"
   ]
  },
  {
   "cell_type": "code",
   "execution_count": 6,
   "id": "c9e4693f-e0e8-4844-97ee-15b8f08a330c",
   "metadata": {},
   "outputs": [
    {
     "data": {
      "text/plain": [
       "10"
      ]
     },
     "execution_count": 6,
     "metadata": {},
     "output_type": "execute_result"
    }
   ],
   "source": [
    "age.month"
   ]
  },
  {
   "cell_type": "code",
   "execution_count": 7,
   "id": "a0ce150f-5e62-4af4-97be-5627cdd65f7e",
   "metadata": {},
   "outputs": [
    {
     "data": {
      "text/plain": [
       "6"
      ]
     },
     "execution_count": 7,
     "metadata": {},
     "output_type": "execute_result"
    }
   ],
   "source": [
    "age.day"
   ]
  },
  {
   "cell_type": "code",
   "execution_count": 8,
   "id": "f7986fed-ec5d-49ea-aaf9-f65e30500e41",
   "metadata": {},
   "outputs": [],
   "source": [
    "today1=date.today()"
   ]
  },
  {
   "cell_type": "code",
   "execution_count": 9,
   "id": "e5decebe-adf9-4b23-beaf-8da74de92510",
   "metadata": {},
   "outputs": [
    {
     "name": "stdout",
     "output_type": "stream",
     "text": [
      "Today's date is  2025-10-07\n"
     ]
    }
   ],
   "source": [
    "print(\"Today's date is \",today1)"
   ]
  },
  {
   "cell_type": "code",
   "execution_count": 10,
   "id": "008ca8a1-1fc9-4360-b219-274aadc6d859",
   "metadata": {},
   "outputs": [
    {
     "data": {
      "text/plain": [
       "2"
      ]
     },
     "execution_count": 10,
     "metadata": {},
     "output_type": "execute_result"
    }
   ],
   "source": [
    "today1.isoweekday()"
   ]
  },
  {
   "cell_type": "code",
   "execution_count": 11,
   "id": "2e17faea-9244-46b6-a4df-d9fdb4a4da54",
   "metadata": {},
   "outputs": [
    {
     "data": {
      "text/plain": [
       "datetime.date(2025, 10, 7)"
      ]
     },
     "execution_count": 11,
     "metadata": {},
     "output_type": "execute_result"
    }
   ],
   "source": [
    "today1"
   ]
  },
  {
   "cell_type": "code",
   "execution_count": 13,
   "id": "a50f816a-d6ad-4ef9-b36b-01bdd82828d7",
   "metadata": {},
   "outputs": [
    {
     "data": {
      "text/plain": [
       "2025"
      ]
     },
     "execution_count": 13,
     "metadata": {},
     "output_type": "execute_result"
    }
   ],
   "source": [
    "today1.year"
   ]
  },
  {
   "cell_type": "code",
   "execution_count": 14,
   "id": "73dfa83a-0970-4575-be18-273c7694e9f7",
   "metadata": {},
   "outputs": [
    {
     "data": {
      "text/plain": [
       "10"
      ]
     },
     "execution_count": 14,
     "metadata": {},
     "output_type": "execute_result"
    }
   ],
   "source": [
    "today1.month"
   ]
  },
  {
   "cell_type": "code",
   "execution_count": 15,
   "id": "2be8fda2-502f-40a2-8346-c69a523109a7",
   "metadata": {},
   "outputs": [
    {
     "data": {
      "text/plain": [
       "7"
      ]
     },
     "execution_count": 15,
     "metadata": {},
     "output_type": "execute_result"
    }
   ],
   "source": [
    "today1.day"
   ]
  },
  {
   "cell_type": "code",
   "execution_count": 17,
   "id": "2efed5c8-a7cb-486f-afc6-ea06978accd7",
   "metadata": {},
   "outputs": [],
   "source": [
    "from datetime import datetime as dt"
   ]
  },
  {
   "cell_type": "code",
   "execution_count": 18,
   "id": "f47f3147-3332-4936-a97d-ccd9af31a98a",
   "metadata": {},
   "outputs": [],
   "source": [
    "Currrent_date_and_time=dt.now()"
   ]
  },
  {
   "cell_type": "code",
   "execution_count": 20,
   "id": "2a1c331f-32f7-42c8-9391-1c283a5e946e",
   "metadata": {},
   "outputs": [
    {
     "name": "stdout",
     "output_type": "stream",
     "text": [
      "2025-10-07 09:57:25.347087\n"
     ]
    }
   ],
   "source": [
    "print(Currrent_date_and_time)"
   ]
  },
  {
   "cell_type": "code",
   "execution_count": 22,
   "id": "b2d76bc7-1a38-4d02-abc8-13d88e8e1015",
   "metadata": {},
   "outputs": [
    {
     "data": {
      "text/plain": [
       "10"
      ]
     },
     "execution_count": 22,
     "metadata": {},
     "output_type": "execute_result"
    }
   ],
   "source": [
    "Currrent_date_and_time.month"
   ]
  },
  {
   "cell_type": "code",
   "execution_count": 23,
   "id": "6f10b56e-297c-4ae4-a623-ef3af9ab2f9d",
   "metadata": {},
   "outputs": [
    {
     "data": {
      "text/plain": [
       "7"
      ]
     },
     "execution_count": 23,
     "metadata": {},
     "output_type": "execute_result"
    }
   ],
   "source": [
    "Currrent_date_and_time.day"
   ]
  },
  {
   "cell_type": "code",
   "execution_count": 24,
   "id": "6ec0c760-10f5-4967-8b12-a6cf34ea9f21",
   "metadata": {},
   "outputs": [
    {
     "data": {
      "text/plain": [
       "9"
      ]
     },
     "execution_count": 24,
     "metadata": {},
     "output_type": "execute_result"
    }
   ],
   "source": [
    "Currrent_date_and_time.hour"
   ]
  },
  {
   "cell_type": "code",
   "execution_count": 26,
   "id": "8632b3a9-d948-4b35-bd23-2d21ba62cebf",
   "metadata": {},
   "outputs": [
    {
     "data": {
      "text/plain": [
       "57"
      ]
     },
     "execution_count": 26,
     "metadata": {},
     "output_type": "execute_result"
    }
   ],
   "source": [
    "Currrent_date_and_time.minute"
   ]
  },
  {
   "cell_type": "markdown",
   "id": "485b0e33-c837-4da5-ac1d-8f6ca83797a3",
   "metadata": {},
   "source": [
    "## Timedelta Function"
   ]
  },
  {
   "cell_type": "code",
   "execution_count": 35,
   "id": "1edd6f40-59fa-4507-aa08-00ed7c3ea9a8",
   "metadata": {},
   "outputs": [],
   "source": [
    "from datetime import date,timedelta"
   ]
  },
  {
   "cell_type": "code",
   "execution_count": 36,
   "id": "b040bc54-ccdd-48be-8655-2471bcafdd08",
   "metadata": {},
   "outputs": [
    {
     "name": "stdout",
     "output_type": "stream",
     "text": [
      "2025-10-07\n",
      "2027-10-07\n"
     ]
    },
    {
     "data": {
      "text/plain": [
       "datetime.date(2027, 10, 7)"
      ]
     },
     "execution_count": 36,
     "metadata": {},
     "output_type": "execute_result"
    }
   ],
   "source": [
    "current_date=date.today()\n",
    "print(current_date)\n",
    "# calculating future dates for 730 days\n",
    "future_date_after_2_yrs=current_date + timedelta(days=730)\n",
    "print(future_date_after_2_yrs)\n",
    "future_date_after_2_yrs"
   ]
  },
  {
   "cell_type": "code",
   "execution_count": null,
   "id": "05eb88a5-c29e-4d0d-94fa-affa7a4cbd8a",
   "metadata": {},
   "outputs": [],
   "source": []
  },
  {
   "cell_type": "markdown",
   "id": "ac995789-ee33-4933-ad03-b0c47515b87d",
   "metadata": {},
   "source": [
    "# Data Structures in Python"
   ]
  },
  {
   "cell_type": "markdown",
   "id": "441c6e1f-ff1c-4121-b1f8-4431ad8d9940",
   "metadata": {},
   "source": [
    "## List Datatype"
   ]
  },
  {
   "cell_type": "code",
   "execution_count": 107,
   "id": "ed69c802-40c1-4bf5-9b68-9b546c90a35d",
   "metadata": {},
   "outputs": [
    {
     "data": {
      "text/plain": [
       "['Keshav', 'sakshi', 'aadesh']"
      ]
     },
     "execution_count": 107,
     "metadata": {},
     "output_type": "execute_result"
    }
   ],
   "source": [
    "name=[\"Keshav\",\"sakshi\",\"aadesh\"]\n",
    "name"
   ]
  },
  {
   "cell_type": "code",
   "execution_count": 108,
   "id": "ad17fe2a-8321-480d-8682-1db9aea8c90d",
   "metadata": {},
   "outputs": [
    {
     "data": {
      "text/plain": [
       "[12.3, 15, 68, 74]"
      ]
     },
     "execution_count": 108,
     "metadata": {},
     "output_type": "execute_result"
    }
   ],
   "source": [
    "age=[12.3,15,68,74]\n",
    "age"
   ]
  },
  {
   "cell_type": "code",
   "execution_count": 109,
   "id": "8e82beb3-4405-4c02-bad4-86293ba34832",
   "metadata": {},
   "outputs": [
    {
     "data": {
      "text/plain": [
       "['Vijay', 'taloogevijay@gmail.com', 20000, True, 24.5]"
      ]
     },
     "execution_count": 109,
     "metadata": {},
     "output_type": "execute_result"
    }
   ],
   "source": [
    "emp_data=['Vijay','taloogevijay@gmail.com',20000,True,24.5]\n",
    "emp_data"
   ]
  },
  {
   "cell_type": "code",
   "execution_count": 110,
   "id": "4a487188-7344-4484-860b-dacf3a60408b",
   "metadata": {},
   "outputs": [
    {
     "data": {
      "text/plain": [
       "list"
      ]
     },
     "execution_count": 110,
     "metadata": {},
     "output_type": "execute_result"
    }
   ],
   "source": [
    "type(emp_data)"
   ]
  },
  {
   "cell_type": "code",
   "execution_count": 111,
   "id": "95417583-7b63-4761-bfd8-06d02688c47f",
   "metadata": {},
   "outputs": [
    {
     "data": {
      "text/plain": [
       "['Keshav', 'sakshi', 'aadesh']"
      ]
     },
     "execution_count": 111,
     "metadata": {},
     "output_type": "execute_result"
    }
   ],
   "source": [
    "name"
   ]
  },
  {
   "cell_type": "markdown",
   "id": "761ab965-c460-466a-9c1e-84f2d1e26391",
   "metadata": {},
   "source": [
    "### Indexing and Slicing in List"
   ]
  },
  {
   "cell_type": "code",
   "execution_count": 112,
   "id": "01bbdb43-9a94-42ed-b91a-a72571b5c60e",
   "metadata": {},
   "outputs": [
    {
     "data": {
      "text/plain": [
       "'sakshi'"
      ]
     },
     "execution_count": 112,
     "metadata": {},
     "output_type": "execute_result"
    }
   ],
   "source": [
    "name[1]"
   ]
  },
  {
   "cell_type": "code",
   "execution_count": 113,
   "id": "3d87ebbb-926f-4cc5-8148-cab81e889e7e",
   "metadata": {},
   "outputs": [
    {
     "data": {
      "text/plain": [
       "['sakshi', 'aadesh']"
      ]
     },
     "execution_count": 113,
     "metadata": {},
     "output_type": "execute_result"
    }
   ],
   "source": [
    "name[1:3]"
   ]
  },
  {
   "cell_type": "code",
   "execution_count": 114,
   "id": "5ae07520-b030-42cb-99df-581e93169015",
   "metadata": {},
   "outputs": [
    {
     "data": {
      "text/plain": [
       "['Vijay', 'taloogevijay@gmail.com', 20000, True, 24.5]"
      ]
     },
     "execution_count": 114,
     "metadata": {},
     "output_type": "execute_result"
    }
   ],
   "source": [
    "emp_data"
   ]
  },
  {
   "cell_type": "code",
   "execution_count": 115,
   "id": "69508c3a-e37c-49b0-b850-ad66ebb513b7",
   "metadata": {},
   "outputs": [
    {
     "data": {
      "text/plain": [
       "['Vijay', 20000, 24.5]"
      ]
     },
     "execution_count": 115,
     "metadata": {},
     "output_type": "execute_result"
    }
   ],
   "source": [
    "emp_data[:12:2]"
   ]
  },
  {
   "cell_type": "code",
   "execution_count": 116,
   "id": "f432fff6-5772-40f8-b056-2af1ec782a3c",
   "metadata": {},
   "outputs": [
    {
     "data": {
      "text/plain": [
       "[24.5, True, 20000, 'taloogevijay@gmail.com', 'Vijay']"
      ]
     },
     "execution_count": 116,
     "metadata": {},
     "output_type": "execute_result"
    }
   ],
   "source": [
    "emp_data[::-1]"
   ]
  },
  {
   "cell_type": "code",
   "execution_count": 117,
   "id": "526bd886-1f1e-4363-99b8-4fb5005d4e4a",
   "metadata": {},
   "outputs": [
    {
     "data": {
      "text/plain": [
       "['Vijay', 'taloogevijay@gmail.com', 20000, True]"
      ]
     },
     "execution_count": 117,
     "metadata": {},
     "output_type": "execute_result"
    }
   ],
   "source": [
    "emp_data[:-1]"
   ]
  },
  {
   "cell_type": "code",
   "execution_count": 118,
   "id": "2716ab24-f772-4174-997f-451c374dcb56",
   "metadata": {},
   "outputs": [],
   "source": [
    "st1=[101,'Vijay',99]\n",
    "st2=[102,'raju',25]\n",
    "st3=[103,'raj',97]\n",
    "st4=[104,'anand',96]"
   ]
  },
  {
   "cell_type": "code",
   "execution_count": 119,
   "id": "42cb5d30-0564-46d8-b23b-27a90cb1d66b",
   "metadata": {},
   "outputs": [
    {
     "data": {
      "text/plain": [
       "[[101, 'Vijay', 99], [102, 'raju', 25], [103, 'raj', 97], [104, 'anand', 96]]"
      ]
     },
     "execution_count": 119,
     "metadata": {},
     "output_type": "execute_result"
    }
   ],
   "source": [
    "all_lst=[st1,st2,st3,st4]\n",
    "all_lst"
   ]
  },
  {
   "cell_type": "code",
   "execution_count": 120,
   "id": "235e2f08-8536-4d5a-ba80-f524b7535bc3",
   "metadata": {},
   "outputs": [
    {
     "data": {
      "text/plain": [
       "'Vijay'"
      ]
     },
     "execution_count": 120,
     "metadata": {},
     "output_type": "execute_result"
    }
   ],
   "source": [
    "all_lst[0][1]"
   ]
  },
  {
   "cell_type": "code",
   "execution_count": 121,
   "id": "a9e5d7da-ac21-45f9-8eb7-6530d3ea4832",
   "metadata": {},
   "outputs": [
    {
     "data": {
      "text/plain": [
       "96"
      ]
     },
     "execution_count": 121,
     "metadata": {},
     "output_type": "execute_result"
    }
   ],
   "source": [
    "all_lst[3][2]"
   ]
  },
  {
   "cell_type": "code",
   "execution_count": 122,
   "id": "f1122d3b-080b-44d9-9bf0-ad7ee7126e34",
   "metadata": {},
   "outputs": [
    {
     "data": {
      "text/plain": [
       "97"
      ]
     },
     "execution_count": 122,
     "metadata": {},
     "output_type": "execute_result"
    }
   ],
   "source": [
    "all_lst[2][2]"
   ]
  },
  {
   "cell_type": "markdown",
   "id": "75254ab8-d15c-4254-a32c-204c54dc6525",
   "metadata": {},
   "source": [
    "## Insert and Append Function"
   ]
  },
  {
   "cell_type": "code",
   "execution_count": 123,
   "id": "60a5409b-6bc3-45e3-b64b-2f393a10aeaa",
   "metadata": {},
   "outputs": [
    {
     "data": {
      "text/plain": [
       "['Keshav', 'sakshi', 'aadesh']"
      ]
     },
     "execution_count": 123,
     "metadata": {},
     "output_type": "execute_result"
    }
   ],
   "source": [
    "name"
   ]
  },
  {
   "cell_type": "code",
   "execution_count": 124,
   "id": "faa9aedd-c75b-453c-9c07-649b34605df6",
   "metadata": {},
   "outputs": [
    {
     "data": {
      "text/plain": [
       "['Keshav', 'sakshi', 'aadesh', 'Akhilesh']"
      ]
     },
     "execution_count": 124,
     "metadata": {},
     "output_type": "execute_result"
    }
   ],
   "source": [
    "name.append(\"Akhilesh\")\n",
    "name"
   ]
  },
  {
   "cell_type": "code",
   "execution_count": 125,
   "id": "bf70166e-927e-4fbe-9307-935887532395",
   "metadata": {},
   "outputs": [],
   "source": [
    "name.insert(2,'Neha')"
   ]
  },
  {
   "cell_type": "code",
   "execution_count": 126,
   "id": "95d500d9-88ac-43a6-a504-4f2a2285fa7c",
   "metadata": {},
   "outputs": [
    {
     "data": {
      "text/plain": [
       "['Keshav', 'sakshi', 'Neha', 'aadesh', 'Akhilesh']"
      ]
     },
     "execution_count": 126,
     "metadata": {},
     "output_type": "execute_result"
    }
   ],
   "source": [
    "name"
   ]
  },
  {
   "cell_type": "code",
   "execution_count": 127,
   "id": "cfddfef1-30ee-4001-af2b-b9b6d1af35aa",
   "metadata": {},
   "outputs": [
    {
     "data": {
      "text/plain": [
       "['Keshav', 'sakshi', 'Neha', 'aadesh', 'Akhilesh', [1, 2, 3, 4, 5]]"
      ]
     },
     "execution_count": 127,
     "metadata": {},
     "output_type": "execute_result"
    }
   ],
   "source": [
    "a=[1,2,3,4,5]\n",
    "name.append(a)\n",
    "name"
   ]
  },
  {
   "cell_type": "code",
   "execution_count": 128,
   "id": "eb10e43e-5ae6-4f90-be06-58e0c16c72bd",
   "metadata": {},
   "outputs": [],
   "source": [
    "b=\"Thala for a reason\"\n",
    "name.insert(1,b)"
   ]
  },
  {
   "cell_type": "code",
   "execution_count": 129,
   "id": "389b5396-d13d-4e3b-b6c1-3ed0afc3b37e",
   "metadata": {},
   "outputs": [
    {
     "data": {
      "text/plain": [
       "['Keshav',\n",
       " 'Thala for a reason',\n",
       " 'sakshi',\n",
       " 'Neha',\n",
       " 'aadesh',\n",
       " 'Akhilesh',\n",
       " [1, 2, 3, 4, 5]]"
      ]
     },
     "execution_count": 129,
     "metadata": {},
     "output_type": "execute_result"
    }
   ],
   "source": [
    "name"
   ]
  },
  {
   "cell_type": "code",
   "execution_count": 130,
   "id": "8c8754cb-0300-4f01-b58a-b3e35a4e84d5",
   "metadata": {},
   "outputs": [
    {
     "data": {
      "text/plain": [
       "['Mon', 'Tue', 'Thur', 'Wed', 'Fri', 'Sat']"
      ]
     },
     "execution_count": 130,
     "metadata": {},
     "output_type": "execute_result"
    }
   ],
   "source": [
    "a1=['Mon','Tue','Thur']\n",
    "a2=['Wed','Fri',\"Sat\"]\n",
    "a1.extend(a2)\n",
    "a1"
   ]
  },
  {
   "cell_type": "code",
   "execution_count": 131,
   "id": "4b8e0b8b-e643-49b3-8982-cb8e4030227d",
   "metadata": {},
   "outputs": [
    {
     "data": {
      "text/plain": [
       "[1, 2, 3, 4, 5, 6, 7, 8]"
      ]
     },
     "execution_count": 131,
     "metadata": {},
     "output_type": "execute_result"
    }
   ],
   "source": [
    "a3=[1,2,3,4]\n",
    "a4=[5,6,7,8]\n",
    "a3+a4"
   ]
  },
  {
   "cell_type": "code",
   "execution_count": 132,
   "id": "c1dc9bde-c9d4-41ce-91b6-ad61ff7addfb",
   "metadata": {},
   "outputs": [
    {
     "data": {
      "text/plain": [
       "['Keshav',\n",
       " 'Thala for a reason',\n",
       " 'sakshi',\n",
       " 'Neha',\n",
       " 'aadesh',\n",
       " 'Akhilesh',\n",
       " [1, 2, 3, 4, 5]]"
      ]
     },
     "execution_count": 132,
     "metadata": {},
     "output_type": "execute_result"
    }
   ],
   "source": [
    "name"
   ]
  },
  {
   "cell_type": "markdown",
   "id": "21d60757-051f-4c0d-bc9e-506534287540",
   "metadata": {},
   "source": [
    "## Pop and Remove Function"
   ]
  },
  {
   "cell_type": "code",
   "execution_count": 133,
   "id": "b2ef4f05-a8d3-4a02-b4a6-422e056e551c",
   "metadata": {},
   "outputs": [
    {
     "data": {
      "text/plain": [
       "'Neha'"
      ]
     },
     "execution_count": 133,
     "metadata": {},
     "output_type": "execute_result"
    }
   ],
   "source": [
    "name.pop(3)"
   ]
  },
  {
   "cell_type": "code",
   "execution_count": 134,
   "id": "3da5d406-3fbd-49e9-8b33-6cf07a367094",
   "metadata": {},
   "outputs": [
    {
     "data": {
      "text/plain": [
       "['Mon', 'Tue', 'Thur', 'Wed', 'Fri', 'Sat']"
      ]
     },
     "execution_count": 134,
     "metadata": {},
     "output_type": "execute_result"
    }
   ],
   "source": [
    "a1"
   ]
  },
  {
   "cell_type": "code",
   "execution_count": 135,
   "id": "b6286a4a-02af-48f1-acef-0d44c98cc85c",
   "metadata": {},
   "outputs": [],
   "source": [
    "name.remove(\"Akhilesh\")"
   ]
  },
  {
   "cell_type": "code",
   "execution_count": 136,
   "id": "6bcc4b8a-fd3d-42fc-9d90-d7feae318ae5",
   "metadata": {},
   "outputs": [
    {
     "data": {
      "text/plain": [
       "['Keshav', 'Thala for a reason', 'sakshi', 'aadesh', [1, 2, 3, 4, 5]]"
      ]
     },
     "execution_count": 136,
     "metadata": {},
     "output_type": "execute_result"
    }
   ],
   "source": [
    "name"
   ]
  },
  {
   "cell_type": "code",
   "execution_count": 137,
   "id": "da6059d4-2046-48f8-bab3-4d3191fda5f1",
   "metadata": {},
   "outputs": [
    {
     "data": {
      "text/plain": [
       "[1, 2, 3, 4, 5]"
      ]
     },
     "execution_count": 137,
     "metadata": {},
     "output_type": "execute_result"
    }
   ],
   "source": [
    "name.pop(-1)"
   ]
  },
  {
   "cell_type": "code",
   "execution_count": 138,
   "id": "eca392e9-9a2d-4a0e-9c7a-fbd2fedc3320",
   "metadata": {},
   "outputs": [
    {
     "data": {
      "text/plain": [
       "'Thala for a reason'"
      ]
     },
     "execution_count": 138,
     "metadata": {},
     "output_type": "execute_result"
    }
   ],
   "source": [
    "name.pop(-3)"
   ]
  },
  {
   "cell_type": "code",
   "execution_count": 139,
   "id": "b062d22b-3e1e-46ea-a81f-115e7673ea9b",
   "metadata": {},
   "outputs": [
    {
     "data": {
      "text/plain": [
       "['Keshav', 'sakshi', 'aadesh']"
      ]
     },
     "execution_count": 139,
     "metadata": {},
     "output_type": "execute_result"
    }
   ],
   "source": [
    "name"
   ]
  },
  {
   "cell_type": "markdown",
   "id": "aa4ea4bb-9a32-4d33-9f06-91a84fa0c95a",
   "metadata": {},
   "source": [
    "## Clear And Delete Function"
   ]
  },
  {
   "cell_type": "code",
   "execution_count": 140,
   "id": "5a0cb4e1-8d2f-4d20-a133-c5ab7819f273",
   "metadata": {},
   "outputs": [],
   "source": [
    "# Clear is used to clear elements in the variable \n",
    "# and delete is used to delete the elements as well as variable also\n",
    "name.clear()"
   ]
  },
  {
   "cell_type": "code",
   "execution_count": 141,
   "id": "7be04ee2-72b3-4f60-b670-d8591ad7d20f",
   "metadata": {},
   "outputs": [
    {
     "data": {
      "text/plain": [
       "[]"
      ]
     },
     "execution_count": 141,
     "metadata": {},
     "output_type": "execute_result"
    }
   ],
   "source": [
    "name"
   ]
  },
  {
   "cell_type": "code",
   "execution_count": 142,
   "id": "5abce207-48de-4a5b-9e91-87fa68e6e220",
   "metadata": {},
   "outputs": [],
   "source": [
    "del name"
   ]
  },
  {
   "cell_type": "code",
   "execution_count": 143,
   "id": "41d27740-1422-4004-97d7-702c2decf19c",
   "metadata": {},
   "outputs": [
    {
     "ename": "NameError",
     "evalue": "name 'name' is not defined",
     "output_type": "error",
     "traceback": [
      "\u001b[1;31m---------------------------------------------------------------------------\u001b[0m",
      "\u001b[1;31mNameError\u001b[0m                                 Traceback (most recent call last)",
      "Cell \u001b[1;32mIn[143], line 1\u001b[0m\n\u001b[1;32m----> 1\u001b[0m name\n",
      "\u001b[1;31mNameError\u001b[0m: name 'name' is not defined"
     ]
    }
   ],
   "source": [
    "name"
   ]
  },
  {
   "cell_type": "markdown",
   "id": "4f0ab720-8ef4-4d71-8f52-e257675b733b",
   "metadata": {},
   "source": [
    "### in Function"
   ]
  },
  {
   "cell_type": "code",
   "execution_count": 153,
   "id": "91930501-00b1-419a-81b6-8fdc1a2ea32c",
   "metadata": {},
   "outputs": [
    {
     "data": {
      "text/plain": [
       "True"
      ]
     },
     "execution_count": 153,
     "metadata": {},
     "output_type": "execute_result"
    }
   ],
   "source": [
    "names=['Keshav','Sakshi','Aadesh','Bhavdya']\n",
    "'Bhavdya' in names"
   ]
  },
  {
   "cell_type": "code",
   "execution_count": 154,
   "id": "0363df14-4e74-4da5-b88a-92824948b4e8",
   "metadata": {},
   "outputs": [],
   "source": [
    "marks=[85,95,84,76,44,35]"
   ]
  },
  {
   "cell_type": "code",
   "execution_count": 155,
   "id": "4441140e-3013-4dcf-b50d-ae5b750ff57b",
   "metadata": {},
   "outputs": [
    {
     "data": {
      "text/plain": [
       "['Keshav', 'Sakshi', 'Aadesh', 'Bhavdya']"
      ]
     },
     "execution_count": 155,
     "metadata": {},
     "output_type": "execute_result"
    }
   ],
   "source": [
    "names"
   ]
  },
  {
   "cell_type": "code",
   "execution_count": 156,
   "id": "7e2a6c20-70d4-488e-a3b5-624c50c82e56",
   "metadata": {},
   "outputs": [],
   "source": [
    "names.reverse()"
   ]
  },
  {
   "cell_type": "code",
   "execution_count": 157,
   "id": "2cf068a0-0fc0-47ba-81f3-57131c0ad5cd",
   "metadata": {},
   "outputs": [
    {
     "data": {
      "text/plain": [
       "['Bhavdya', 'Aadesh', 'Sakshi', 'Keshav']"
      ]
     },
     "execution_count": 157,
     "metadata": {},
     "output_type": "execute_result"
    }
   ],
   "source": [
    "names"
   ]
  },
  {
   "cell_type": "code",
   "execution_count": 158,
   "id": "b3779477-3308-4861-8989-952af61d259b",
   "metadata": {},
   "outputs": [
    {
     "data": {
      "text/plain": [
       "['Keshav', 'Sakshi', 'Aadesh', 'Bhavdya']"
      ]
     },
     "execution_count": 158,
     "metadata": {},
     "output_type": "execute_result"
    }
   ],
   "source": [
    "#2nd method\n",
    "names[::-1]"
   ]
  },
  {
   "cell_type": "markdown",
   "id": "67c60a6b-595c-475e-b66c-d9926fb8d936",
   "metadata": {},
   "source": [
    "### sort Function"
   ]
  },
  {
   "cell_type": "code",
   "execution_count": 165,
   "id": "e46bd015-21b9-46ea-8eea-fd5282306663",
   "metadata": {},
   "outputs": [],
   "source": [
    "a1=[23,45,14,52,62,12,10,8,65]"
   ]
  },
  {
   "cell_type": "code",
   "execution_count": 166,
   "id": "1dd3bc7e-2112-4f21-b8b9-090f223d60ad",
   "metadata": {},
   "outputs": [
    {
     "data": {
      "text/plain": [
       "[23, 45, 14, 52, 62, 12, 10, 8, 65]"
      ]
     },
     "execution_count": 166,
     "metadata": {},
     "output_type": "execute_result"
    }
   ],
   "source": [
    "a1"
   ]
  },
  {
   "cell_type": "code",
   "execution_count": 167,
   "id": "5e843955-18d8-4c87-8d7c-d4397ff9d397",
   "metadata": {},
   "outputs": [],
   "source": [
    "a1.sort()"
   ]
  },
  {
   "cell_type": "code",
   "execution_count": 168,
   "id": "f32e9903-8ff7-4425-ae06-2b7418a2ea5f",
   "metadata": {},
   "outputs": [
    {
     "data": {
      "text/plain": [
       "[8, 10, 12, 14, 23, 45, 52, 62, 65]"
      ]
     },
     "execution_count": 168,
     "metadata": {},
     "output_type": "execute_result"
    }
   ],
   "source": [
    "a1"
   ]
  },
  {
   "cell_type": "code",
   "execution_count": 169,
   "id": "55be2bc9-4686-46a0-86cf-90cb16832d45",
   "metadata": {},
   "outputs": [],
   "source": [
    "a1.sort(reverse=True)"
   ]
  },
  {
   "cell_type": "code",
   "execution_count": 170,
   "id": "9b1cfd8e-c4f7-4884-bc66-a641ebadc1d1",
   "metadata": {},
   "outputs": [
    {
     "data": {
      "text/plain": [
       "[65, 62, 52, 45, 23, 14, 12, 10, 8]"
      ]
     },
     "execution_count": 170,
     "metadata": {},
     "output_type": "execute_result"
    }
   ],
   "source": [
    "a1"
   ]
  },
  {
   "cell_type": "markdown",
   "id": "0317b6b2-6394-429a-abea-9cba80b41d4d",
   "metadata": {},
   "source": [
    "# Tuple Datatype"
   ]
  },
  {
   "cell_type": "code",
   "execution_count": 172,
   "id": "416d9be3-568c-46d2-8f10-87b20a084468",
   "metadata": {},
   "outputs": [
    {
     "data": {
      "text/plain": [
       "('Nikhil', 95, True, 2.5)"
      ]
     },
     "execution_count": 172,
     "metadata": {},
     "output_type": "execute_result"
    }
   ],
   "source": [
    "tup1=('Nikhil',95,True,2.5)\n",
    "tup1"
   ]
  },
  {
   "cell_type": "code",
   "execution_count": 173,
   "id": "d8a70983-75ac-46bc-b4a8-04ee5eb8e61a",
   "metadata": {},
   "outputs": [
    {
     "data": {
      "text/plain": [
       "tuple"
      ]
     },
     "execution_count": 173,
     "metadata": {},
     "output_type": "execute_result"
    }
   ],
   "source": [
    "type(tup1)"
   ]
  },
  {
   "cell_type": "code",
   "execution_count": 174,
   "id": "3d3dd03e-11c6-4769-96a8-2e2df32b183f",
   "metadata": {},
   "outputs": [],
   "source": [
    "tup2=()"
   ]
  },
  {
   "cell_type": "code",
   "execution_count": 175,
   "id": "41790ed5-deeb-4df3-af34-783fc3445084",
   "metadata": {},
   "outputs": [
    {
     "data": {
      "text/plain": [
       "()"
      ]
     },
     "execution_count": 175,
     "metadata": {},
     "output_type": "execute_result"
    }
   ],
   "source": [
    "tup2"
   ]
  },
  {
   "cell_type": "code",
   "execution_count": 177,
   "id": "aa758b75-3cae-407b-9087-307c3edb88aa",
   "metadata": {},
   "outputs": [
    {
     "data": {
      "text/plain": [
       "(20.5, 2000.6, 45000.6, 785444.6)"
      ]
     },
     "execution_count": 177,
     "metadata": {},
     "output_type": "execute_result"
    }
   ],
   "source": [
    "measures=(20.5,2000.6,45000.6,785444.6)\n",
    "measures"
   ]
  },
  {
   "cell_type": "code",
   "execution_count": 182,
   "id": "1ba87d4c-f3e2-4a5d-90aa-05b6533368b1",
   "metadata": {},
   "outputs": [],
   "source": [
    "mixed=('keshav',True,43,989,856.5,(205,520.5,65),(956,85,'aadesh'))"
   ]
  },
  {
   "cell_type": "markdown",
   "id": "6f9af6d6-71ae-4343-80b8-f23940c468f6",
   "metadata": {},
   "source": [
    "### Indexing and Slicing in Tuple"
   ]
  },
  {
   "cell_type": "code",
   "execution_count": 184,
   "id": "9ecd4aff-0bac-43d5-a5ae-1bba76023c13",
   "metadata": {},
   "outputs": [
    {
     "data": {
      "text/plain": [
       "(205, 520.5, 65)"
      ]
     },
     "execution_count": 184,
     "metadata": {},
     "output_type": "execute_result"
    }
   ],
   "source": [
    "mixed[5]"
   ]
  },
  {
   "cell_type": "code",
   "execution_count": 185,
   "id": "9bf32824-ddab-4e5e-a7fb-6d1c225fea32",
   "metadata": {},
   "outputs": [
    {
     "data": {
      "text/plain": [
       "65"
      ]
     },
     "execution_count": 185,
     "metadata": {},
     "output_type": "execute_result"
    }
   ],
   "source": [
    "mixed[5][2]"
   ]
  },
  {
   "cell_type": "code",
   "execution_count": 186,
   "id": "27b898ab-8637-45cf-a736-18d9eb398caf",
   "metadata": {},
   "outputs": [
    {
     "data": {
      "text/plain": [
       "(True, 989)"
      ]
     },
     "execution_count": 186,
     "metadata": {},
     "output_type": "execute_result"
    }
   ],
   "source": [
    "mixed[1:5:2]"
   ]
  },
  {
   "cell_type": "code",
   "execution_count": 187,
   "id": "dd926540-2edd-4e60-b6ef-050bb2876b4e",
   "metadata": {},
   "outputs": [],
   "source": [
    "del mixed"
   ]
  },
  {
   "cell_type": "code",
   "execution_count": 188,
   "id": "4013fb0f-9593-4059-b47b-0bb2481bad60",
   "metadata": {},
   "outputs": [
    {
     "ename": "NameError",
     "evalue": "name 'mixed' is not defined",
     "output_type": "error",
     "traceback": [
      "\u001b[1;31m---------------------------------------------------------------------------\u001b[0m",
      "\u001b[1;31mNameError\u001b[0m                                 Traceback (most recent call last)",
      "Cell \u001b[1;32mIn[188], line 1\u001b[0m\n\u001b[1;32m----> 1\u001b[0m mixed\n",
      "\u001b[1;31mNameError\u001b[0m: name 'mixed' is not defined"
     ]
    }
   ],
   "source": [
    "mixed"
   ]
  },
  {
   "cell_type": "markdown",
   "id": "dbb9b168-5364-4fdf-b3f2-253744fd36b8",
   "metadata": {},
   "source": [
    "## Count and Index"
   ]
  },
  {
   "cell_type": "code",
   "execution_count": 8,
   "id": "63b7e5fb-af93-451a-9336-96820c31d06b",
   "metadata": {},
   "outputs": [],
   "source": [
    "c1=(12,54,5,4,6,4,5,6,4,8,9,7,4,5,78)"
   ]
  },
  {
   "cell_type": "code",
   "execution_count": 9,
   "id": "e611ccb2-f5f1-4586-941e-43344e4a755b",
   "metadata": {},
   "outputs": [
    {
     "data": {
      "text/plain": [
       "3"
      ]
     },
     "execution_count": 9,
     "metadata": {},
     "output_type": "execute_result"
    }
   ],
   "source": [
    "c1.count(5)"
   ]
  },
  {
   "cell_type": "code",
   "execution_count": 10,
   "id": "50513180-5d41-4395-8317-b73ff999ad13",
   "metadata": {},
   "outputs": [
    {
     "data": {
      "text/plain": [
       "3"
      ]
     },
     "execution_count": 10,
     "metadata": {},
     "output_type": "execute_result"
    }
   ],
   "source": [
    "c1.index(4)"
   ]
  },
  {
   "cell_type": "code",
   "execution_count": 11,
   "id": "a1c5bd4a-343c-4f16-8bb0-e59d63c2b4b4",
   "metadata": {},
   "outputs": [
    {
     "data": {
      "text/plain": [
       "8"
      ]
     },
     "execution_count": 11,
     "metadata": {},
     "output_type": "execute_result"
    }
   ],
   "source": [
    "# in only index \n",
    "c1.index(4,7)"
   ]
  },
  {
   "cell_type": "markdown",
   "id": "6d4f4fc7-6883-4bb0-a529-25adf2ccfe9a",
   "metadata": {},
   "source": [
    "### Sorting Index"
   ]
  },
  {
   "cell_type": "code",
   "execution_count": 12,
   "id": "5685a024-3e6d-4cfc-ac37-e07cfe067379",
   "metadata": {},
   "outputs": [
    {
     "data": {
      "text/plain": [
       "(12, 54, 5, 4, 6, 4, 5, 6, 4, 8, 9, 7, 4, 5, 78)"
      ]
     },
     "execution_count": 12,
     "metadata": {},
     "output_type": "execute_result"
    }
   ],
   "source": [
    "c1"
   ]
  },
  {
   "cell_type": "code",
   "execution_count": 17,
   "id": "76c4e430-a027-4fca-bc9b-fe6e2bfe73a2",
   "metadata": {},
   "outputs": [
    {
     "data": {
      "text/plain": [
       "[4, 4, 4, 4, 5, 5, 5, 6, 6, 7, 8, 9, 12, 54, 78]"
      ]
     },
     "execution_count": 17,
     "metadata": {},
     "output_type": "execute_result"
    }
   ],
   "source": [
    "sorted(c1)"
   ]
  },
  {
   "cell_type": "code",
   "execution_count": 18,
   "id": "e76344e3-a258-43be-9c09-ec15247144e6",
   "metadata": {},
   "outputs": [],
   "source": [
    "s=(\"Nikhil\",\"Ajit\",\"Somesh\",\"Andrew\",\"Likhit\",\"Abhang\")"
   ]
  },
  {
   "cell_type": "code",
   "execution_count": 19,
   "id": "244eaeec-cdb5-4417-989d-6bf4a43562f1",
   "metadata": {},
   "outputs": [
    {
     "data": {
      "text/plain": [
       "['Abhang', 'Ajit', 'Andrew', 'Likhit', 'Nikhil', 'Somesh']"
      ]
     },
     "execution_count": 19,
     "metadata": {},
     "output_type": "execute_result"
    }
   ],
   "source": [
    "sorted(s)"
   ]
  },
  {
   "cell_type": "code",
   "execution_count": 21,
   "id": "ea081981-b12b-4abb-9e35-6b84d52fed3f",
   "metadata": {},
   "outputs": [
    {
     "data": {
      "text/plain": [
       "['Somesh', 'Nikhil', 'Likhit', 'Andrew', 'Ajit', 'Abhang']"
      ]
     },
     "execution_count": 21,
     "metadata": {},
     "output_type": "execute_result"
    }
   ],
   "source": [
    "# Reverse kr rhe hai \n",
    "sorted(s,reverse=True)"
   ]
  },
  {
   "cell_type": "markdown",
   "id": "25dcd03a-7dd5-4810-a275-1586b30cd3d7",
   "metadata": {},
   "source": [
    "# Sets"
   ]
  },
  {
   "cell_type": "code",
   "execution_count": 22,
   "id": "344777c7-3dfa-4f43-ae49-66a1e24f59c5",
   "metadata": {},
   "outputs": [
    {
     "data": {
      "text/plain": [
       "{1, 2, 3, 4, 5, 35, 42, 48, 62, 65}"
      ]
     },
     "execution_count": 22,
     "metadata": {},
     "output_type": "execute_result"
    }
   ],
   "source": [
    "s1={1,2,3,4,5,65,48,2,1,65,48,42,62,35}\n",
    "s1"
   ]
  },
  {
   "cell_type": "code",
   "execution_count": 23,
   "id": "4a3a6b01-8eea-4897-83cb-90196f37c4d5",
   "metadata": {},
   "outputs": [
    {
     "data": {
      "text/plain": [
       "{15,\n",
       " 21,\n",
       " 36,\n",
       " 41,\n",
       " 47,\n",
       " 51,\n",
       " 56,\n",
       " 7,\n",
       " 9,\n",
       " 'Aadesh',\n",
       " 'Akhilesh',\n",
       " 'Damodar',\n",
       " 'Imtiyaz',\n",
       " 'Vijay'}"
      ]
     },
     "execution_count": 23,
     "metadata": {},
     "output_type": "execute_result"
    }
   ],
   "source": [
    "s2={'Vijay','Akhilesh','Damodar',15,56,47,21,41,51,15,36,9,7,9,'Aadesh','Imtiyaz'}\n",
    "s2"
   ]
  },
  {
   "cell_type": "code",
   "execution_count": 24,
   "id": "808c3f29-b7b2-41ab-92e1-8b2c2bbcf1a2",
   "metadata": {},
   "outputs": [
    {
     "data": {
      "text/plain": [
       "{15, 45, 52, 65, 'cipla', 'intaz', 'manohar', 'nikhil'}"
      ]
     },
     "execution_count": 24,
     "metadata": {},
     "output_type": "execute_result"
    }
   ],
   "source": [
    "s4=set(['nikhil','manohar','intaz','cipla',65,45,15,65,52])\n",
    "s4"
   ]
  },
  {
   "cell_type": "code",
   "execution_count": 27,
   "id": "82d0fa04-b3b0-4ac4-9ace-d305ce0795e2",
   "metadata": {},
   "outputs": [
    {
     "data": {
      "text/plain": [
       "{'Business', 'Politics'}"
      ]
     },
     "execution_count": 27,
     "metadata": {},
     "output_type": "execute_result"
    }
   ],
   "source": [
    "news={'Business','Politics'}\n",
    "news"
   ]
  },
  {
   "cell_type": "code",
   "execution_count": 28,
   "id": "c96efe93-93fe-400d-85e7-530d5cf0d99e",
   "metadata": {},
   "outputs": [],
   "source": [
    "news.add(\"Sports\")"
   ]
  },
  {
   "cell_type": "code",
   "execution_count": 29,
   "id": "abf734b7-0669-495e-88ff-df7abc69ec45",
   "metadata": {},
   "outputs": [
    {
     "data": {
      "text/plain": [
       "{'Business', 'Politics', 'Sports'}"
      ]
     },
     "execution_count": 29,
     "metadata": {},
     "output_type": "execute_result"
    }
   ],
   "source": [
    "news"
   ]
  },
  {
   "cell_type": "code",
   "execution_count": 34,
   "id": "4ff2e48e-ffae-4b8d-a5d5-6ae3367af785",
   "metadata": {},
   "outputs": [
    {
     "data": {
      "text/plain": [
       "['Entertainment', 'Lifestyle', 'Advertising']"
      ]
     },
     "execution_count": 34,
     "metadata": {},
     "output_type": "execute_result"
    }
   ],
   "source": [
    "sections=[\"Entertainment\",\"Lifestyle\",\"Advertising\"]\n",
    "sections"
   ]
  },
  {
   "cell_type": "code",
   "execution_count": 35,
   "id": "24a0aa47-4f29-44a9-bf97-897828bb2402",
   "metadata": {},
   "outputs": [],
   "source": [
    "news.update(sections)"
   ]
  },
  {
   "cell_type": "code",
   "execution_count": 36,
   "id": "04976385-5bec-4771-9a53-8e72a6b89941",
   "metadata": {},
   "outputs": [
    {
     "data": {
      "text/plain": [
       "{'Advertising', 'Business', 'Entertainment', 'Lifestyle', 'Politics', 'Sports'}"
      ]
     },
     "execution_count": 36,
     "metadata": {},
     "output_type": "execute_result"
    }
   ],
   "source": [
    "news"
   ]
  },
  {
   "cell_type": "code",
   "execution_count": 38,
   "id": "e67a54d5-aa60-44a9-9986-87d660f6b839",
   "metadata": {},
   "outputs": [
    {
     "data": {
      "text/plain": [
       "{('Vijay', 'Anand'), 12, 45, 'Anand', 'Vijay'}"
      ]
     },
     "execution_count": 38,
     "metadata": {},
     "output_type": "execute_result"
    }
   ],
   "source": [
    "a={12,'Anand','Vijay',('Vijay','Anand'),45}\n",
    "a"
   ]
  },
  {
   "cell_type": "code",
   "execution_count": 39,
   "id": "fa6e4a1f-7195-497b-90e8-8a0bd8616e5d",
   "metadata": {},
   "outputs": [],
   "source": [
    "a.add(\"Raju\")"
   ]
  },
  {
   "cell_type": "code",
   "execution_count": 40,
   "id": "5eba9923-88f9-402c-b10c-70807f027588",
   "metadata": {},
   "outputs": [
    {
     "data": {
      "text/plain": [
       "{('Vijay', 'Anand'), 12, 45, 'Anand', 'Raju', 'Vijay'}"
      ]
     },
     "execution_count": 40,
     "metadata": {},
     "output_type": "execute_result"
    }
   ],
   "source": [
    "a"
   ]
  },
  {
   "cell_type": "code",
   "execution_count": 41,
   "id": "2e19075d-06dc-44b4-bf7e-6d6d3f567697",
   "metadata": {},
   "outputs": [],
   "source": [
    "a.remove(45)"
   ]
  },
  {
   "cell_type": "code",
   "execution_count": 42,
   "id": "c27ad111-8464-4d66-91e2-8d9301e87156",
   "metadata": {},
   "outputs": [
    {
     "data": {
      "text/plain": [
       "{('Vijay', 'Anand'), 12, 'Anand', 'Raju', 'Vijay'}"
      ]
     },
     "execution_count": 42,
     "metadata": {},
     "output_type": "execute_result"
    }
   ],
   "source": [
    "a"
   ]
  },
  {
   "cell_type": "code",
   "execution_count": 43,
   "id": "218ee742-39f7-48d4-bf67-43f08ebaf2ac",
   "metadata": {},
   "outputs": [],
   "source": [
    "a.discard((\"Vijay\",\"Anand\"))"
   ]
  },
  {
   "cell_type": "code",
   "execution_count": 44,
   "id": "084103c7-d5ae-4611-978f-680c44ef9b2b",
   "metadata": {},
   "outputs": [
    {
     "data": {
      "text/plain": [
       "{12, 'Anand', 'Raju', 'Vijay'}"
      ]
     },
     "execution_count": 44,
     "metadata": {},
     "output_type": "execute_result"
    }
   ],
   "source": [
    "a"
   ]
  },
  {
   "cell_type": "markdown",
   "id": "01ea6a8b-dd15-471a-b5fc-ba9e1b9ee510",
   "metadata": {},
   "source": [
    "## Set Operations"
   ]
  },
  {
   "cell_type": "code",
   "execution_count": 48,
   "id": "3939ec16-6fff-4334-a4d8-e706bdcea740",
   "metadata": {},
   "outputs": [],
   "source": [
    "a={1,2,3,4,5}\n",
    "b={4,5,6,7,8}\n",
    "c={8,9,10}"
   ]
  },
  {
   "cell_type": "code",
   "execution_count": 49,
   "id": "1a5c384d-0366-4d72-9f06-aca66ee9ac1f",
   "metadata": {},
   "outputs": [
    {
     "data": {
      "text/plain": [
       "{1, 2, 3, 4, 5, 6, 7, 8}"
      ]
     },
     "execution_count": 49,
     "metadata": {},
     "output_type": "execute_result"
    }
   ],
   "source": [
    "a.union(b)"
   ]
  },
  {
   "cell_type": "code",
   "execution_count": 50,
   "id": "ba7c922d-1862-41a9-af8e-30b0bfdd54c8",
   "metadata": {},
   "outputs": [
    {
     "data": {
      "text/plain": [
       "{1, 2, 3, 4, 5, 6, 7, 8}"
      ]
     },
     "execution_count": 50,
     "metadata": {},
     "output_type": "execute_result"
    }
   ],
   "source": [
    "b.union(a)"
   ]
  },
  {
   "cell_type": "code",
   "execution_count": 51,
   "id": "a675928a-89e5-4c1c-a7d9-8023b62d7070",
   "metadata": {},
   "outputs": [
    {
     "data": {
      "text/plain": [
       "{1, 2, 3, 4, 5, 6, 7, 8, 9, 10}"
      ]
     },
     "execution_count": 51,
     "metadata": {},
     "output_type": "execute_result"
    }
   ],
   "source": [
    "a.union(b,c)"
   ]
  },
  {
   "cell_type": "code",
   "execution_count": 55,
   "id": "3d8a7582-0704-4939-bdb0-b29bc8bb5531",
   "metadata": {},
   "outputs": [
    {
     "data": {
      "text/plain": [
       "set()"
      ]
     },
     "execution_count": 55,
     "metadata": {},
     "output_type": "execute_result"
    }
   ],
   "source": [
    "a.intersection(b,c)"
   ]
  },
  {
   "cell_type": "code",
   "execution_count": 56,
   "id": "0e52f22d-13fc-4b0f-b737-f717ce332c57",
   "metadata": {},
   "outputs": [
    {
     "data": {
      "text/plain": [
       "{1, 2, 3}"
      ]
     },
     "execution_count": 56,
     "metadata": {},
     "output_type": "execute_result"
    }
   ],
   "source": [
    "a.difference(b,c)"
   ]
  },
  {
   "cell_type": "code",
   "execution_count": 62,
   "id": "8931fd6a-82b6-4766-98f8-fa749980e816",
   "metadata": {},
   "outputs": [
    {
     "data": {
      "text/plain": [
       "{6, 7}"
      ]
     },
     "execution_count": 62,
     "metadata": {},
     "output_type": "execute_result"
    }
   ],
   "source": [
    "b.difference(a,c)"
   ]
  },
  {
   "cell_type": "code",
   "execution_count": 63,
   "id": "f150aa31-b348-4a51-80f5-9933c204cdf9",
   "metadata": {},
   "outputs": [
    {
     "data": {
      "text/plain": [
       "{1, 2, 3, 6, 7, 8}"
      ]
     },
     "execution_count": 63,
     "metadata": {},
     "output_type": "execute_result"
    }
   ],
   "source": [
    "a.symmetric_difference(b)"
   ]
  },
  {
   "cell_type": "code",
   "execution_count": 65,
   "id": "2b248d94-bfe4-4b10-a4ab-b67f215c630f",
   "metadata": {},
   "outputs": [
    {
     "data": {
      "text/plain": [
       "{1, 2, 3, 4, 7, 8, 9}"
      ]
     },
     "execution_count": 65,
     "metadata": {},
     "output_type": "execute_result"
    }
   ],
   "source": [
    "z1=[1,2,3,4,7,8,2,1,3,4,8,9]\n",
    "s1=set(z1)\n",
    "s1"
   ]
  },
  {
   "cell_type": "markdown",
   "id": "bc3aea9d-da28-4e73-81e9-7b7daa2c683d",
   "metadata": {},
   "source": [
    "# Dictionary"
   ]
  },
  {
   "cell_type": "code",
   "execution_count": 68,
   "id": "6f56d454-4455-4161-8686-0a460ff4b7b5",
   "metadata": {},
   "outputs": [],
   "source": [
    "d1={\"Name\":\"Keshav\",\n",
    "     \"Age\":24,\n",
    "     \"Location\":\"Pune\",\n",
    "     \"Salary\":80000}"
   ]
  },
  {
   "cell_type": "code",
   "execution_count": 69,
   "id": "a1b20c3b-e92b-4df4-b901-918b73345ddf",
   "metadata": {},
   "outputs": [
    {
     "data": {
      "text/plain": [
       "{'Name': 'Keshav', 'Age': 24, 'Location': 'Pune', 'Salary': 80000}"
      ]
     },
     "execution_count": 69,
     "metadata": {},
     "output_type": "execute_result"
    }
   ],
   "source": [
    "d1"
   ]
  },
  {
   "cell_type": "code",
   "execution_count": 70,
   "id": "66263d3e-607d-4dbd-9383-64b3e99d2d08",
   "metadata": {},
   "outputs": [
    {
     "data": {
      "text/plain": [
       "dict_keys(['Name', 'Age', 'Location', 'Salary'])"
      ]
     },
     "execution_count": 70,
     "metadata": {},
     "output_type": "execute_result"
    }
   ],
   "source": [
    "d1.keys()"
   ]
  },
  {
   "cell_type": "code",
   "execution_count": 71,
   "id": "018c1c58-b48d-4649-a67c-87a3cce67cf8",
   "metadata": {},
   "outputs": [
    {
     "data": {
      "text/plain": [
       "dict_values(['Keshav', 24, 'Pune', 80000])"
      ]
     },
     "execution_count": 71,
     "metadata": {},
     "output_type": "execute_result"
    }
   ],
   "source": [
    "d1.values()"
   ]
  },
  {
   "cell_type": "code",
   "execution_count": 72,
   "id": "07939cfb-7e52-4b4a-befd-e7806bdfea01",
   "metadata": {},
   "outputs": [
    {
     "data": {
      "text/plain": [
       "dict_items([('Name', 'Keshav'), ('Age', 24), ('Location', 'Pune'), ('Salary', 80000)])"
      ]
     },
     "execution_count": 72,
     "metadata": {},
     "output_type": "execute_result"
    }
   ],
   "source": [
    "d1.items()"
   ]
  },
  {
   "cell_type": "code",
   "execution_count": 77,
   "id": "da0480bb-7f4d-42e4-aa14-93a9915a36ce",
   "metadata": {},
   "outputs": [],
   "source": [
    "d1.update({\"Salary\":95000})"
   ]
  },
  {
   "cell_type": "code",
   "execution_count": 78,
   "id": "59b279da-da0a-4bbc-bd96-1a3104c3ab91",
   "metadata": {},
   "outputs": [
    {
     "data": {
      "text/plain": [
       "{'Name': 'Keshav', 'Age': 24, 'Location': 'Pune', 'Salary': 95000}"
      ]
     },
     "execution_count": 78,
     "metadata": {},
     "output_type": "execute_result"
    }
   ],
   "source": [
    "d1"
   ]
  },
  {
   "cell_type": "code",
   "execution_count": 79,
   "id": "60ccd718-6ce4-4bff-8042-292de89e66c4",
   "metadata": {},
   "outputs": [
    {
     "data": {
      "text/plain": [
       "{'Name': 'Keshav', 'Age': 24, 'Location': 'Pune', 'Salary': 95000, 'Id': 85}"
      ]
     },
     "execution_count": 79,
     "metadata": {},
     "output_type": "execute_result"
    }
   ],
   "source": [
    "d1[\"Id\"]=85\n",
    "d1"
   ]
  },
  {
   "cell_type": "code",
   "execution_count": 80,
   "id": "63a18cad-bc5a-4ab9-baee-0056ea431dd5",
   "metadata": {},
   "outputs": [
    {
     "data": {
      "text/plain": [
       "85"
      ]
     },
     "execution_count": 80,
     "metadata": {},
     "output_type": "execute_result"
    }
   ],
   "source": [
    "d1.pop(\"Id\")"
   ]
  },
  {
   "cell_type": "code",
   "execution_count": 81,
   "id": "d18fc92e-8783-4307-975d-7729be9a4751",
   "metadata": {},
   "outputs": [
    {
     "data": {
      "text/plain": [
       "{'Name': 'Keshav', 'Age': 24, 'Location': 'Pune', 'Salary': 95000}"
      ]
     },
     "execution_count": 81,
     "metadata": {},
     "output_type": "execute_result"
    }
   ],
   "source": [
    "d1"
   ]
  },
  {
   "cell_type": "code",
   "execution_count": 82,
   "id": "d988876b-2a95-4fbe-b30e-7b5a7a971474",
   "metadata": {},
   "outputs": [],
   "source": [
    "del d1[\"Location\"]"
   ]
  },
  {
   "cell_type": "code",
   "execution_count": 83,
   "id": "2cdd8d0e-de37-4433-ac17-e938c5d75282",
   "metadata": {},
   "outputs": [
    {
     "data": {
      "text/plain": [
       "{'Name': 'Keshav', 'Age': 24, 'Salary': 95000}"
      ]
     },
     "execution_count": 83,
     "metadata": {},
     "output_type": "execute_result"
    }
   ],
   "source": [
    "d1"
   ]
  },
  {
   "cell_type": "code",
   "execution_count": 87,
   "id": "3cededec-3197-42bb-9ad8-b237bcc87d56",
   "metadata": {},
   "outputs": [
    {
     "data": {
      "text/plain": [
       "{'name': ['niks', 'jiks', 'giks', 'sheks'],\n",
       " 'Age': [84, 65, 74, 65],\n",
       " 'Location': ['Pune', 'Hydrabad', 'Banglore', 'Bankok']}"
      ]
     },
     "execution_count": 87,
     "metadata": {},
     "output_type": "execute_result"
    }
   ],
   "source": [
    "emp_data={\"name\":['niks','jiks','giks','sheks'],\n",
    "         'Age':[84,65,74,65],\n",
    "         \"Location\":['Pune',\"Hydrabad\",'Banglore','Bankok']}\n",
    "emp_data"
   ]
  },
  {
   "cell_type": "code",
   "execution_count": 88,
   "id": "d6bd048e-f6c5-48e9-a00a-68e08a9e5a68",
   "metadata": {},
   "outputs": [
    {
     "data": {
      "text/plain": [
       "{'name': ['niks', 'jiks', 'giks', 'sheks'],\n",
       " 'Age': [84, 65, 74, 65],\n",
       " 'Location': ['Pune', 'Hydrabad', 'Banglore', 'Bankok']}"
      ]
     },
     "execution_count": 88,
     "metadata": {},
     "output_type": "execute_result"
    }
   ],
   "source": [
    "emp_data"
   ]
  },
  {
   "cell_type": "code",
   "execution_count": 89,
   "id": "81b4d3eb-6efb-4084-b447-9e687f85b6cb",
   "metadata": {},
   "outputs": [],
   "source": [
    "import pandas as pd"
   ]
  },
  {
   "cell_type": "code",
   "execution_count": 91,
   "id": "bda8829f-f4db-4b26-b408-e75c294f7bf3",
   "metadata": {},
   "outputs": [
    {
     "data": {
      "text/html": [
       "<div>\n",
       "<style scoped>\n",
       "    .dataframe tbody tr th:only-of-type {\n",
       "        vertical-align: middle;\n",
       "    }\n",
       "\n",
       "    .dataframe tbody tr th {\n",
       "        vertical-align: top;\n",
       "    }\n",
       "\n",
       "    .dataframe thead th {\n",
       "        text-align: right;\n",
       "    }\n",
       "</style>\n",
       "<table border=\"1\" class=\"dataframe\">\n",
       "  <thead>\n",
       "    <tr style=\"text-align: right;\">\n",
       "      <th></th>\n",
       "      <th>name</th>\n",
       "      <th>Age</th>\n",
       "      <th>Location</th>\n",
       "    </tr>\n",
       "  </thead>\n",
       "  <tbody>\n",
       "    <tr>\n",
       "      <th>0</th>\n",
       "      <td>niks</td>\n",
       "      <td>84</td>\n",
       "      <td>Pune</td>\n",
       "    </tr>\n",
       "    <tr>\n",
       "      <th>1</th>\n",
       "      <td>jiks</td>\n",
       "      <td>65</td>\n",
       "      <td>Hydrabad</td>\n",
       "    </tr>\n",
       "    <tr>\n",
       "      <th>2</th>\n",
       "      <td>giks</td>\n",
       "      <td>74</td>\n",
       "      <td>Banglore</td>\n",
       "    </tr>\n",
       "    <tr>\n",
       "      <th>3</th>\n",
       "      <td>sheks</td>\n",
       "      <td>65</td>\n",
       "      <td>Bankok</td>\n",
       "    </tr>\n",
       "  </tbody>\n",
       "</table>\n",
       "</div>"
      ],
      "text/plain": [
       "    name  Age  Location\n",
       "0   niks   84      Pune\n",
       "1   jiks   65  Hydrabad\n",
       "2   giks   74  Banglore\n",
       "3  sheks   65    Bankok"
      ]
     },
     "execution_count": 91,
     "metadata": {},
     "output_type": "execute_result"
    }
   ],
   "source": [
    "pd.DataFrame(emp_data)"
   ]
  },
  {
   "cell_type": "markdown",
   "id": "bc4e4ac1-c982-46f6-9c74-03b857bb5cc8",
   "metadata": {},
   "source": [
    "# Loops"
   ]
  },
  {
   "cell_type": "code",
   "execution_count": 92,
   "id": "18143124-bcc7-4eab-b394-090917523b15",
   "metadata": {},
   "outputs": [],
   "source": [
    "# While Loop = we Dont know the end where \n",
    "# For Loop = We Know the end"
   ]
  },
  {
   "cell_type": "code",
   "execution_count": 93,
   "id": "e396aa78-b8d5-44f1-af54-f03306d47122",
   "metadata": {},
   "outputs": [
    {
     "name": "stdout",
     "output_type": "stream",
     "text": [
      "Hello Bhaisaab 0\n",
      "Hello Bhaisaab 1\n",
      "Hello Bhaisaab 2\n",
      "Hello Bhaisaab 3\n",
      "Hello Bhaisaab 4\n"
     ]
    }
   ],
   "source": [
    "i=0\n",
    "while i<5:\n",
    "    print('Hello Bhaisaab',i)\n",
    "    i=i+1"
   ]
  },
  {
   "cell_type": "code",
   "execution_count": 94,
   "id": "433b0336-176e-417e-abb8-3b6fe71b2682",
   "metadata": {},
   "outputs": [
    {
     "name": "stdout",
     "output_type": "stream",
     "text": [
      "0 even num\n",
      "2 even num\n",
      "4 even num\n",
      "6 even num\n",
      "8 even num\n",
      "10 even num\n"
     ]
    }
   ],
   "source": [
    "i=0\n",
    "while i<=10:\n",
    "    if (i%2==0):\n",
    "        print(i,\"even num\")\n",
    "    i=i+1"
   ]
  },
  {
   "cell_type": "code",
   "execution_count": 95,
   "id": "dadcf92e-04df-4691-8175-917f52c21704",
   "metadata": {},
   "outputs": [
    {
     "name": "stdout",
     "output_type": "stream",
     "text": [
      "1 odd Number\n",
      "3 odd Number\n",
      "5 odd Number\n",
      "7 odd Number\n",
      "9 odd Number\n"
     ]
    }
   ],
   "source": [
    "i=0\n",
    "while i<=10:\n",
    "    if (i%2!=0):\n",
    "        print(i,\"odd Number\")\n",
    "    i=i+1"
   ]
  },
  {
   "cell_type": "code",
   "execution_count": 5,
   "id": "ec18d667-1dd8-4d59-8170-ab8f503bff7b",
   "metadata": {},
   "outputs": [
    {
     "name": "stdout",
     "output_type": "stream",
     "text": [
      "even_numbers [0, 2, 4, 6, 8, 10, 12, 14, 16, 18, 20]\n",
      "Odd_numbers [1, 3, 5, 7, 9, 11, 13, 15, 17, 19]\n"
     ]
    }
   ],
   "source": [
    "\n",
    "even=[]\n",
    "odd=[]\n",
    "\n",
    "i=0\n",
    "while i<21:\n",
    "    if (i%2==0):\n",
    "       even.append(i)\n",
    "    else :\n",
    "       odd.append(i)\n",
    "    i=i+1\n",
    "    \n",
    "\n",
    "print('even_numbers',even)\n",
    "print('Odd_numbers',odd)"
   ]
  },
  {
   "cell_type": "code",
   "execution_count": 6,
   "id": "b30184b3-60b9-453d-afaa-720fda465da8",
   "metadata": {},
   "outputs": [
    {
     "data": {
      "text/plain": [
       "8"
      ]
     },
     "execution_count": 6,
     "metadata": {},
     "output_type": "execute_result"
    }
   ],
   "source": [
    "nums=[25,40,25,80,75,25,88,25,24,25,77,25,56,25,10,25]\n",
    "nums.count(25)"
   ]
  },
  {
   "cell_type": "code",
   "execution_count": 9,
   "id": "3d2f3318-8ac6-413b-95d0-e636d7c8038b",
   "metadata": {},
   "outputs": [
    {
     "name": "stdout",
     "output_type": "stream",
     "text": [
      "[40, 80, 75, 88, 24, 77, 56, 10]\n",
      "Count of 25s in the list is  0\n"
     ]
    }
   ],
   "source": [
    "while 25 in nums : \n",
    "    nums.remove(25)\n",
    "    c=nums.count(25)\n",
    "    if c==5:\n",
    "        break\n",
    "\n",
    "print(nums)\n",
    "print(\"Count of 25s in the list is \",c)"
   ]
  },
  {
   "cell_type": "code",
   "execution_count": 10,
   "id": "9b8a321a-c9dd-4145-a5db-8243e76dcd47",
   "metadata": {},
   "outputs": [
    {
     "name": "stdout",
     "output_type": "stream",
     "text": [
      "[40, 80, 75, 88, 24, 77, 56, 10]\n",
      "Count of 25s in the list is  0\n"
     ]
    }
   ],
   "source": [
    "while 25 in nums : \n",
    "    nums.remove(25)\n",
    "    c=nums.count(25)\n",
    "    if c==10:\n",
    "        break\n",
    "\n",
    "print(nums)\n",
    "print(\"Count of 25s in the list is \",c)"
   ]
  },
  {
   "cell_type": "code",
   "execution_count": 2,
   "id": "720f1820-9c51-46c2-9d03-cffe2fc6fbbf",
   "metadata": {},
   "outputs": [
    {
     "name": "stdout",
     "output_type": "stream",
     "text": [
      "1\n",
      "2\n",
      "3\n",
      "4\n",
      "5\n",
      "6\n",
      "7\n",
      "8\n",
      "9\n",
      "10\n",
      "15\n",
      "16\n",
      "17\n",
      "18\n",
      "19\n",
      "20\n"
     ]
    }
   ],
   "source": [
    "i=0\n",
    "while i<20:\n",
    "    i=i+1\n",
    "    if 10<i<15:\n",
    "        continue\n",
    "    else:\n",
    "        print(i)"
   ]
  },
  {
   "cell_type": "code",
   "execution_count": 8,
   "id": "ba0b2441-c121-4d78-b62d-374722306b78",
   "metadata": {},
   "outputs": [
    {
     "name": "stdout",
     "output_type": "stream",
     "text": [
      "Square of 1 is : 1\n",
      "Square of 2 is : 4\n",
      "Square of 3 is : 9\n",
      "Skipped\n",
      "Skipped\n",
      "Square of 6 is : 36\n",
      "Square of 7 is : 49\n",
      "Square of 8 is : 64\n"
     ]
    }
   ],
   "source": [
    "i=0\n",
    "\n",
    "while i<8:\n",
    "    i=i+1\n",
    "\n",
    "    sq=i**2\n",
    "    if 10<sq<30:\n",
    "        print(\"Skipped\")\n",
    "        continue\n",
    "    print(f\"Square of {i} is : {sq}\")"
   ]
  },
  {
   "cell_type": "code",
   "execution_count": 16,
   "id": "1161b20e-0cfe-4548-9514-b8a098e7449d",
   "metadata": {},
   "outputs": [
    {
     "name": "stdout",
     "output_type": "stream",
     "text": [
      "Cube of 2 is : 8\n",
      "Cube of 3 is : 27\n",
      "Cube of 4 is : 64\n",
      "Cube of 5 is : 125\n",
      "Cube of 6 is : 216\n",
      "Cube of 7 is : 343\n",
      "Cube of 8 is : 512\n",
      "Cube of 9 is : 729\n",
      "Cube of 10 is : 1000\n",
      "Cube of 11 is : 1331\n",
      "Cube of 12 is : 1728\n",
      "Cube of 13 is : 2197\n",
      "Cube of 14 is : 2744\n",
      "Cube of 15 is : 3375\n",
      "Cube of 16 is : 4096\n",
      "Cube of 17 is : 4913\n",
      "Cube of 18 is : 5832\n",
      "Cube of 19 is : 6859\n",
      "Cube of 20 is : 8000\n",
      "even_numbers [8, 64, 216, 512, 1000, 1728, 2744, 4096, 5832, 8000]\n",
      "Odd_numbers [27, 125, 343, 729, 1331, 2197, 3375, 4913, 6859]\n"
     ]
    }
   ],
   "source": [
    "l1=list(range(1,21))\n",
    "\n",
    "even=[]\n",
    "odd=[]\n",
    "i=1\n",
    "\n",
    "while i<len(l1):\n",
    "    c=l1[i]**3\n",
    "\n",
    "    if c%2==0:\n",
    "        even.append(c)\n",
    "    else :\n",
    "       odd.append(c)\n",
    "    i=i+1\n",
    "    print(f\"Cube of {i} is :\",c)\n",
    "   \n",
    "    \n",
    "\n",
    "print('even_numbers',even)\n",
    "print('Odd_numbers',odd)\n"
   ]
  },
  {
   "cell_type": "code",
   "execution_count": 4,
   "id": "9775e726-5c9b-403e-a7e8-20f897221be2",
   "metadata": {},
   "outputs": [
    {
     "data": {
      "text/plain": [
       "[1, 2, 3, 4, 5, 6, 7, 8, 9, 10, 11, 12, 13, 14, 15, 16, 17, 18, 19, 20, 21]"
      ]
     },
     "execution_count": 4,
     "metadata": {},
     "output_type": "execute_result"
    }
   ],
   "source": [
    "l1"
   ]
  },
  {
   "cell_type": "code",
   "execution_count": 5,
   "id": "8f0dc95a-46b2-4f44-bbc3-56fa64c34250",
   "metadata": {},
   "outputs": [
    {
     "data": {
      "text/plain": [
       "[1, 2, 3, 4, 5, 6, 7, 8, 9, 10, 11, 12, 13, 14, 15, 16, 17, 18, 19]"
      ]
     },
     "execution_count": 5,
     "metadata": {},
     "output_type": "execute_result"
    }
   ],
   "source": [
    "l2=list(range(1,20))\n",
    "l2"
   ]
  },
  {
   "cell_type": "code",
   "execution_count": 13,
   "id": "cc498e6f-06ab-4060-adb7-7a1ada27e443",
   "metadata": {},
   "outputs": [
    {
     "name": "stdout",
     "output_type": "stream",
     "text": [
      "[1, 2, 3, 4, 5, 6, 7, 8, 9, 10, 11, 12, 13, 14, 15, 16, 17, 18, 19, 20]\n",
      "[8, 64, 216, 512, 1000, 1728, 2744, 4096, 5832, 8000]\n",
      "[27, 125, 343, 729, 1331, 2197, 3375, 4913, 6859]\n"
     ]
    }
   ],
   "source": [
    "l2=list(range(1,20+1))\n",
    "e1=[]\n",
    "o1=[]\n",
    "\n",
    "i=1\n",
    "while i<len(l2):\n",
    "    c=l2[i]**3\n",
    "    if  c%2==0:\n",
    "        e1.append(c)\n",
    "    else:\n",
    "        o1.append(c)\n",
    "    i=i+1    \n",
    "\n",
    "print(l2)\n",
    "print(e1)\n",
    "print(o1)"
   ]
  },
  {
   "cell_type": "code",
   "execution_count": null,
   "id": "8624cc6a-b632-420f-b21c-efed1ce51218",
   "metadata": {},
   "outputs": [],
   "source": [
    "name=['bob','mom','madam','pen','tom']\n",
    "palindrome=[]\n",
    "non_palindrome=[]\n",
    "\n",
    "i=0\n",
    "while i<len(name):\n",
    "    if name[i]==name[i][::-1]:\n",
    "        palindrome.append(name[i])\n",
    "    else :\n",
    "        non_palindrome.append(name[i])\n",
    " \n",
    "\n",
    "print(\"Palindrome : \",palindrome)\n",
    "print(\"non_palindrome : \",non_palindrome)"
   ]
  },
  {
   "cell_type": "code",
   "execution_count": null,
   "id": "306dcb44-0de9-49c5-8b3d-7f86f06afb87",
   "metadata": {},
   "outputs": [],
   "source": [
    "num=int(input(\"Enter the number for factorial : \"))\n",
    "b=1\n",
    "i=1\n",
    "while i in range(1,num+1):\n",
    "    b=b*i\n",
    "    i=i+1\n",
    "print(f\"Factorial of {num} is : {b}\")"
   ]
  },
  {
   "cell_type": "code",
   "execution_count": 5,
   "id": "03a47afd-7bf7-42b4-8492-88329c0f67e3",
   "metadata": {},
   "outputs": [
    {
     "name": "stdin",
     "output_type": "stream",
     "text": [
      "Enter a Number :  6\n"
     ]
    },
    {
     "name": "stdout",
     "output_type": "stream",
     "text": [
      "Composite\n"
     ]
    }
   ],
   "source": [
    "num=int(input(\"Enter a Number : \"))\n",
    "\n",
    "if num<=1:\n",
    "    print(\"Neither prime nor Composite\")\n",
    "else:\n",
    "    i=2\n",
    "    count=0\n",
    "    while i<=num/2:\n",
    "        if num % i ==0:\n",
    "            count += 1\n",
    "        i += 1\n",
    "\n",
    "    if count==0:\n",
    "        print(\"Prime\")\n",
    "    else : \n",
    "        print(\"Composite\")"
   ]
  },
  {
   "cell_type": "markdown",
   "id": "24cd15b7-7562-4645-9cfc-90915f89fec0",
   "metadata": {},
   "source": [
    "# For Loop"
   ]
  },
  {
   "cell_type": "code",
   "execution_count": 6,
   "id": "661b3b67-33c4-4c5e-890d-17ac0580cc26",
   "metadata": {},
   "outputs": [
    {
     "name": "stdout",
     "output_type": "stream",
     "text": [
      "1\n",
      "2\n",
      "3\n",
      "4\n",
      "5\n",
      "6\n",
      "7\n",
      "8\n",
      "9\n",
      "10\n",
      "15\n",
      "8\n",
      "585\n",
      "45\n",
      "6\n",
      "5\n",
      "4\n",
      "585\n",
      "78\n",
      "65\n",
      "8\n"
     ]
    }
   ],
   "source": [
    "a=[1,2,3,4,5,6,7,8,9,10,15,8,585,45,6,5,4,585,78,65,8]\n",
    "\n",
    "for i in a:\n",
    "    print(i)"
   ]
  },
  {
   "cell_type": "code",
   "execution_count": 11,
   "id": "95ca549a-67a9-455f-b07f-e58b598fb3bc",
   "metadata": {},
   "outputs": [
    {
     "name": "stdout",
     "output_type": "stream",
     "text": [
      "3  is mult of    1\n",
      "6  is mult of    2\n",
      "9  is mult of    3\n",
      "12  is mult of    4\n",
      "15  is mult of    5\n"
     ]
    }
   ],
   "source": [
    "items=[1,2,3,4,5]\n",
    "\n",
    "for i in items:\n",
    "    print(i*3,\" is mult of   \",i)"
   ]
  },
  {
   "cell_type": "code",
   "execution_count": 16,
   "id": "44b67e9b-0082-4a00-b417-ca4cd1cd946f",
   "metadata": {},
   "outputs": [
    {
     "name": "stdout",
     "output_type": "stream",
     "text": [
      "8.977272727272727 Dollar is the price in dollar of 790 Ruppes  \n",
      "7.386363636363637 Dollar is the price in dollar of 650 Ruppes  \n",
      "10.136363636363637 Dollar is the price in dollar of 892 Ruppes  \n",
      "11.352272727272727 Dollar is the price in dollar of 999 Ruppes  \n"
     ]
    }
   ],
   "source": [
    "price=[790,650,892,999]\n",
    "\n",
    "for i in price:\n",
    "    print(i/88,f\"Dollar is the price in dollar of {i} Ruppes  \")"
   ]
  },
  {
   "cell_type": "code",
   "execution_count": 17,
   "id": "ca0afdb6-34aa-4d78-a9fa-3e4a3f5f92e4",
   "metadata": {},
   "outputs": [
    {
     "name": "stdout",
     "output_type": "stream",
     "text": [
      "#bhai\n",
      "ko\n",
      "apunka\n",
      "kuch\n",
      "bhi\n",
      "nhi\n",
      "chahiye\n",
      "kyoki\n",
      "bhai\n",
      "hi\n",
      "bhagawan\n",
      "hai\n",
      "samjha\n",
      "kya\n",
      "be\n",
      "78\n",
      "95\n",
      "874\n",
      "62.5\n",
      "48\n"
     ]
    }
   ],
   "source": [
    "s='#bhai ko apunka kuch bhi nhi chahiye kyoki bhai hi bhagawan hai samjha kya be 78 95 874 62.5 48'\n",
    "\n",
    "for i in s.split():\n",
    "    print(i)"
   ]
  },
  {
   "cell_type": "code",
   "execution_count": 19,
   "id": "4afd6b71-e379-4440-8b8b-50e66477415a",
   "metadata": {},
   "outputs": [
    {
     "name": "stdout",
     "output_type": "stream",
     "text": [
      "0\n",
      "2\n",
      "4\n",
      "6\n",
      "8\n",
      "10\n"
     ]
    }
   ],
   "source": [
    "for i in range(0,11,2):\n",
    "    print(i)"
   ]
  },
  {
   "cell_type": "code",
   "execution_count": 20,
   "id": "5a6602a7-a3c7-4add-9a3a-c75c8c9f16be",
   "metadata": {},
   "outputs": [
    {
     "name": "stdout",
     "output_type": "stream",
     "text": [
      "-21\n",
      "-20\n",
      "-19\n",
      "-18\n",
      "-17\n",
      "-16\n",
      "-15\n",
      "-14\n",
      "-13\n",
      "-12\n",
      "-11\n",
      "-10\n",
      "-9\n",
      "-8\n",
      "-7\n",
      "-6\n",
      "-5\n",
      "-4\n",
      "-3\n",
      "-2\n",
      "-1\n",
      "0\n",
      "1\n",
      "2\n",
      "3\n",
      "4\n",
      "5\n",
      "6\n",
      "7\n",
      "8\n",
      "9\n",
      "10\n",
      "11\n",
      "12\n",
      "13\n",
      "14\n",
      "15\n",
      "16\n",
      "17\n",
      "18\n",
      "19\n"
     ]
    }
   ],
   "source": [
    "for i in range(-21,20):\n",
    "    print(i)"
   ]
  },
  {
   "cell_type": "code",
   "execution_count": 25,
   "id": "d3a7f6e5-62d0-42eb-96bd-512c5abaa310",
   "metadata": {},
   "outputs": [
    {
     "name": "stdout",
     "output_type": "stream",
     "text": [
      "Even Numbers :  [0, 2, 4, 6, 8, 10, 12, 14, 16, 18, 20, 22, 24, 26, 28, 30, 32, 34, 36, 38, 40, 42, 44, 46, 48]\n",
      "Odd Numbers :  [1, 3, 5, 7, 9, 11, 13, 15, 17, 19, 21, 23, 25, 27, 29, 31, 33, 35, 37, 39, 41, 43, 45, 47, 49]\n"
     ]
    }
   ],
   "source": [
    "even=[]\n",
    "odd=[]\n",
    "for i in range(0,50):\n",
    "    if i%2==0:\n",
    "        even.append(i)\n",
    "    else:\n",
    "        odd.append(i)\n",
    "\n",
    "print(\"Even Numbers : \",even)\n",
    "\n",
    "print(\"Odd Numbers : \",odd)\n",
    "        "
   ]
  },
  {
   "cell_type": "code",
   "execution_count": 37,
   "id": "2aecd311-5494-499c-aee8-a1a95860e07e",
   "metadata": {},
   "outputs": [
    {
     "name": "stdout",
     "output_type": "stream",
     "text": [
      "Positive Numbers :  [-21, -20, -19, -18, -17, -16, -15, -14, -13, -12, -11, -10, -9, -8, -7, -6, -5, -4, -3, -2, -1]\n",
      "Negative Numbers :  [1, 2, 3, 4, 5, 6, 7, 8, 9, 10, 11, 12, 13, 14, 15, 16, 17, 18, 19, 20]\n",
      "[0]\n"
     ]
    }
   ],
   "source": [
    "positive =[]\n",
    "negative=[]\n",
    "zero=[]\n",
    "for i in range(-21,21):\n",
    "    if i==0:\n",
    "         zero.append(i)\n",
    "    elif i<1:\n",
    "         positive.append(i)\n",
    "        \n",
    "    else:\n",
    "        negative.append(i)\n",
    "\n",
    "print(\"Positive Numbers : \",positive)\n",
    "print(\"Negative Numbers : \",negative)\n",
    "print(zero)"
   ]
  },
  {
   "cell_type": "code",
   "execution_count": 38,
   "id": "4a403dc7-12fe-4dac-8285-6b0159402a4c",
   "metadata": {},
   "outputs": [
    {
     "name": "stdout",
     "output_type": "stream",
     "text": [
      "Even Numbers :  [2, 4, 6, 8, 10, 12, 14, 16, 18, 20]\n",
      "Odd Numbers  :  [1, 3, 5, 7, 9, 11, 13, 15, 17, 19]\n"
     ]
    }
   ],
   "source": [
    "even=[]\n",
    "odd=[]\n",
    "for i in range(1,21,2):\n",
    "    odd.append(i)\n",
    "\n",
    "for i in range(2,21,2):\n",
    "    even.append(i)\n",
    "\n",
    "print(\"Even Numbers : \",even)\n",
    "print(\"Odd Numbers  : \",odd)"
   ]
  },
  {
   "cell_type": "markdown",
   "id": "30368440-2298-48bf-a4b3-e6c83576c9ac",
   "metadata": {},
   "source": [
    "## Nested Loop"
   ]
  },
  {
   "cell_type": "code",
   "execution_count": 39,
   "id": "8b80f999-0571-4ae5-a230-ed88dc5f3053",
   "metadata": {},
   "outputs": [
    {
     "name": "stdout",
     "output_type": "stream",
     "text": [
      "Red Apple\n",
      "Red Banana\n",
      "Red Orange\n",
      "Blue Apple\n",
      "Blue Banana\n",
      "Blue Orange\n",
      "Green Apple\n",
      "Green Banana\n",
      "Green Orange\n"
     ]
    }
   ],
   "source": [
    "a=['Red',\"Blue\",\"Green\"]\n",
    "b=['Apple','Banana','Orange']\n",
    "\n",
    "for i in a:\n",
    "    for h in b:\n",
    "        print(i,h)"
   ]
  },
  {
   "cell_type": "code",
   "execution_count": 41,
   "id": "dc43dc9f-018a-4ea0-b1bd-b5d3a9ad2275",
   "metadata": {},
   "outputs": [
    {
     "name": "stdout",
     "output_type": "stream",
     "text": [
      "vijay 23 30000\n",
      "Anand 25 35000\n",
      "Nikhil 36 50000\n"
     ]
    }
   ],
   "source": [
    "emp=[['vijay',23,30000],['Anand',25,35000],['Nikhil',36,50000]]\n",
    "for i,j,k in emp:\n",
    "    print(i,j,k)"
   ]
  },
  {
   "cell_type": "code",
   "execution_count": 47,
   "id": "29fa7d8f-9cb0-47b4-8715-5ad08b6b9150",
   "metadata": {},
   "outputs": [
    {
     "name": "stdout",
     "output_type": "stream",
     "text": [
      "Batch A of size 78 shall attend Maths\n",
      "Batch B of size 90 shall attend Maths\n",
      "Batch C of size 56 shall attend Maths\n",
      "Batch B of size 90 shall attend Maths\n",
      "Batch A of size 78 shall attend Data Science\n",
      "Batch B of size 90 shall attend Data Science\n",
      "Batch C of size 56 shall attend Data Science\n",
      "Batch B of size 90 shall attend Data Science\n",
      "Batch A of size 78 shall attend Economics\n",
      "Batch B of size 90 shall attend Economics\n",
      "Batch C of size 56 shall attend Economics\n",
      "Batch B of size 90 shall attend Economics\n",
      "Batch A of size 78 shall attend Social Sciences\n",
      "Batch B of size 90 shall attend Social Sciences\n",
      "Batch C of size 56 shall attend Social Sciences\n",
      "Batch B of size 90 shall attend Social Sciences\n"
     ]
    }
   ],
   "source": [
    "course=['Maths','Data Science','Economics','Social Sciences']\n",
    "size=[78,90,56,90]\n",
    "batch=('A',\"B\",'C','D')\n",
    "\n",
    "for i in course :\n",
    "    for k in size:\n",
    "        b_loc=size.index(k)\n",
    "        b=batch[b_loc]\n",
    "        print(f\"Batch {b} of size {k} shall attend {i}\")"
   ]
  },
  {
   "cell_type": "code",
   "execution_count": 6,
   "id": "eede2e5b-7f2d-4ae4-8583-adb5e35df153",
   "metadata": {},
   "outputs": [
    {
     "name": "stdout",
     "output_type": "stream",
     "text": [
      "[1852, 1852, 1852, 1854, 1854, 1854]\n",
      "[1851, 1853, 1853, 1853]\n"
     ]
    }
   ],
   "source": [
    "l1=list(range(5555,5565))\n",
    "e1=[]\n",
    "o1=[] \n",
    "for i in l1 :\n",
    "    c_r=i**1//3\n",
    "    if c_r%2==0:\n",
    "        e1.append(c_r)\n",
    "    else:\n",
    "        o1.append(c_r)\n",
    "\n",
    "print(e1)\n",
    "print(o1)\n",
    "   \n",
    "    \n",
    "    "
   ]
  },
  {
   "cell_type": "code",
   "execution_count": 7,
   "id": "47dd3ac5-3781-46a1-ad8f-b28882a62ba8",
   "metadata": {},
   "outputs": [
    {
     "data": {
      "text/plain": [
       "[5555, 5556, 5557, 5558, 5559, 5560, 5561, 5562, 5563, 5564]"
      ]
     },
     "execution_count": 7,
     "metadata": {},
     "output_type": "execute_result"
    }
   ],
   "source": [
    "l1"
   ]
  },
  {
   "cell_type": "code",
   "execution_count": null,
   "id": "1189749c-ea46-4e1f-b572-0890fffde186",
   "metadata": {},
   "outputs": [],
   "source": [
    "l1=[1,2,3,4,5,6,7,8,9,10,11,12,13,14,15]\n",
    "\n",
    "for i in l1:\n",
    "    multi=i*45\n",
    "\n",
    "    if multi %2==0:\n",
    "        "
   ]
  },
  {
   "cell_type": "code",
   "execution_count": 67,
   "id": "f23ebbac-3559-4804-9f9f-22add956bff5",
   "metadata": {},
   "outputs": [
    {
     "name": "stdout",
     "output_type": "stream",
     "text": [
      "234 -------> 3\n",
      "23 -------> 2\n",
      "123 -------> 3\n",
      "3456 -------> 4\n",
      "79799 -------> 5\n",
      "989899 -------> 6\n"
     ]
    }
   ],
   "source": [
    "l1=[234,23,123,3456,79799,989899]\n",
    "\n",
    "for i in l1:\n",
    "    string=len(str(i))\n",
    "    print(i,\"------->\",string)"
   ]
  },
  {
   "cell_type": "code",
   "execution_count": 68,
   "id": "5b1abc2f-025f-4a02-be29-00fad688fa02",
   "metadata": {},
   "outputs": [
    {
     "name": "stdout",
     "output_type": "stream",
     "text": [
      "234 -------> 35\n",
      "23 -------> 35\n",
      "123 -------> 35\n",
      "3456 -------> 35\n",
      "79799 -------> 35\n",
      "989899 -------> 35\n"
     ]
    }
   ],
   "source": [
    "# Second Way\n",
    "\n",
    "for i in l1:\n",
    "    print(i,\"------->\",len(str(l1)))"
   ]
  },
  {
   "cell_type": "code",
   "execution_count": 73,
   "id": "791677ec-32bf-40cf-a4c9-634b16c5c16c",
   "metadata": {},
   "outputs": [
    {
     "name": "stdout",
     "output_type": "stream",
     "text": [
      "150\n"
     ]
    }
   ],
   "source": [
    "l1=[10,20,30,40,50]\n",
    "\n",
    "t=0\n",
    "for i in l1:\n",
    "    t=t+i\n",
    "print(t)"
   ]
  },
  {
   "cell_type": "code",
   "execution_count": 38,
   "id": "2acc4df8-5c52-47c0-a997-4c978bacea66",
   "metadata": {},
   "outputs": [
    {
     "ename": "TypeError",
     "evalue": "unsupported operand type(s) for |: 'str' and 'type'",
     "output_type": "error",
     "traceback": [
      "\u001b[1;31m---------------------------------------------------------------------------\u001b[0m",
      "\u001b[1;31mTypeError\u001b[0m                                 Traceback (most recent call last)",
      "Cell \u001b[1;32mIn[38], line 4\u001b[0m\n\u001b[0;32m      2\u001b[0m t\u001b[38;5;241m=\u001b[39m\u001b[38;5;241m0\u001b[39m\n\u001b[0;32m      3\u001b[0m \u001b[38;5;28;01mfor\u001b[39;00m i \u001b[38;5;129;01min\u001b[39;00m a:\n\u001b[1;32m----> 4\u001b[0m     \u001b[38;5;28;01mif\u001b[39;00m \u001b[38;5;28misinstance\u001b[39m(i,\u001b[38;5;28mint\u001b[39m\u001b[38;5;241m|\u001b[39m\u001b[38;5;28mfloat\u001b[39m):\n\u001b[0;32m      5\u001b[0m         t\u001b[38;5;241m=\u001b[39mt\u001b[38;5;241m+\u001b[39mi\n\u001b[0;32m      7\u001b[0m \u001b[38;5;28mprint\u001b[39m(t)\n",
      "\u001b[1;31mTypeError\u001b[0m: unsupported operand type(s) for |: 'str' and 'type'"
     ]
    }
   ],
   "source": [
    "a=['vijay',45,'raju',55]\n",
    "t=0\n",
    "for i in a:\n",
    "    if isinstance(i,int|float):\n",
    "        t=t+i\n",
    "\n",
    "print(t)"
   ]
  },
  {
   "cell_type": "code",
   "execution_count": null,
   "id": "639dde7b-8a5d-4502-bc2a-6ecf3efe7875",
   "metadata": {},
   "outputs": [],
   "source": [
    "name=['bob','dad','pen','tom','mom','madam']\n",
    "\n",
    "for i in name:\n",
    "    "
   ]
  },
  {
   "cell_type": "code",
   "execution_count": 81,
   "id": "90c3caf0-6af2-47b9-81ae-f52fbe257eb8",
   "metadata": {},
   "outputs": [
    {
     "name": "stdout",
     "output_type": "stream",
     "text": [
      "Palindrome :  ['bob', 'mom', 'madam']\n",
      "non_palindrome :  ['pen', 'tom']\n"
     ]
    }
   ],
   "source": [
    "name=['bob','mom','madam','pen','tom']\n",
    "palindrome=[]\n",
    "non_palindrome=[]\n",
    "\n",
    "\n",
    "for i  in name:\n",
    "    if i==i[::-1]:\n",
    "        palindrome.append(i)\n",
    "    else :\n",
    "        non_palindrome.append(i)\n",
    " \n",
    "\n",
    "print(\"Palindrome : \",palindrome)\n",
    "print(\"non_palindrome : \",non_palindrome)"
   ]
  },
  {
   "cell_type": "markdown",
   "id": "6d25a41f-201d-4c3c-b0d7-23c39bc5a09f",
   "metadata": {},
   "source": [
    "# Built in Fuctions"
   ]
  },
  {
   "cell_type": "code",
   "execution_count": 82,
   "id": "99fd4b8c-d774-4318-ab40-fcdff729b623",
   "metadata": {},
   "outputs": [],
   "source": [
    "l1=[12,14,17,59,77,89]"
   ]
  },
  {
   "cell_type": "code",
   "execution_count": 83,
   "id": "75421872-ab30-4658-92b7-98806e2a9b58",
   "metadata": {},
   "outputs": [
    {
     "data": {
      "text/plain": [
       "268"
      ]
     },
     "execution_count": 83,
     "metadata": {},
     "output_type": "execute_result"
    }
   ],
   "source": [
    "sum(l1)"
   ]
  },
  {
   "cell_type": "code",
   "execution_count": 84,
   "id": "6a94c782-1701-4d18-89c4-c2cf41d1bbeb",
   "metadata": {},
   "outputs": [
    {
     "data": {
      "text/plain": [
       "89"
      ]
     },
     "execution_count": 84,
     "metadata": {},
     "output_type": "execute_result"
    }
   ],
   "source": [
    "max(l1)"
   ]
  },
  {
   "cell_type": "code",
   "execution_count": 85,
   "id": "5e62e983-03d3-47cf-8875-c1a8bb698ab0",
   "metadata": {},
   "outputs": [
    {
     "data": {
      "text/plain": [
       "12"
      ]
     },
     "execution_count": 85,
     "metadata": {},
     "output_type": "execute_result"
    }
   ],
   "source": [
    "min(l1)"
   ]
  },
  {
   "cell_type": "code",
   "execution_count": 87,
   "id": "ce3f979a-a52c-421c-8216-931756eb6448",
   "metadata": {},
   "outputs": [
    {
     "data": {
      "text/plain": [
       "6"
      ]
     },
     "execution_count": 87,
     "metadata": {},
     "output_type": "execute_result"
    }
   ],
   "source": [
    "len(l1)"
   ]
  },
  {
   "cell_type": "code",
   "execution_count": 89,
   "id": "2949af81-df46-45bb-bf47-d8b5b7de8b8f",
   "metadata": {},
   "outputs": [
    {
     "name": "stdout",
     "output_type": "stream",
     "text": [
      "44.666666666666664\n"
     ]
    }
   ],
   "source": [
    "avg=sum(l1)/len(l1)\n",
    "print(avg)"
   ]
  },
  {
   "cell_type": "code",
   "execution_count": 101,
   "id": "ce128aa8-3eb0-43d8-9161-ef08d9670466",
   "metadata": {},
   "outputs": [
    {
     "data": {
      "text/plain": [
       "44.666666666666664"
      ]
     },
     "execution_count": 101,
     "metadata": {},
     "output_type": "execute_result"
    }
   ],
   "source": [
    "import numpy as np\n",
    "np.mean(l1)"
   ]
  },
  {
   "cell_type": "code",
   "execution_count": 102,
   "id": "eeddeefb-6c08-4cb4-93eb-754eb1319633",
   "metadata": {},
   "outputs": [
    {
     "data": {
      "text/plain": [
       "{'a': 25, 'b': 26, 'c': 29, 'd': 45}"
      ]
     },
     "execution_count": 102,
     "metadata": {},
     "output_type": "execute_result"
    }
   ],
   "source": [
    "d1={'a':25,'b':26,'c':29,'d':45}\n",
    "d1"
   ]
  },
  {
   "cell_type": "code",
   "execution_count": 103,
   "id": "1759a1ae-7841-4e88-95d6-60139e578b08",
   "metadata": {},
   "outputs": [],
   "source": [
    "f=d1.values()"
   ]
  },
  {
   "cell_type": "code",
   "execution_count": 104,
   "id": "fb44921f-d20d-45d1-8695-a4354d849012",
   "metadata": {},
   "outputs": [
    {
     "name": "stdout",
     "output_type": "stream",
     "text": [
      "31.25\n"
     ]
    }
   ],
   "source": [
    "avg=sum(f)/len(f)\n",
    "print(avg)"
   ]
  },
  {
   "cell_type": "code",
   "execution_count": null,
   "id": "1a3e74d2-3789-4a85-8d2d-6631a7cd29da",
   "metadata": {},
   "outputs": [],
   "source": [
    "a=[121,457,343,985]\n",
    " for i in a:\n",
    "     if len(str(i))==i[::-1]"
   ]
  },
  {
   "cell_type": "code",
   "execution_count": 109,
   "id": "ae8c5bb8-f568-42e6-a5c6-ed4e188abd52",
   "metadata": {},
   "outputs": [
    {
     "name": "stdout",
     "output_type": "stream",
     "text": [
      "Palindrome :  [121, 343]\n",
      "non_palindrome :  [457, 985]\n"
     ]
    }
   ],
   "source": [
    "a=[121,457,343,985]\n",
    "palindrome=[]\n",
    "non_palindrome=[]\n",
    "\n",
    "\n",
    "for i  in a:\n",
    "    if str(i)==str(i)[::-1]:\n",
    "        palindrome.append(i)\n",
    "    else :\n",
    "        non_palindrome.append(i)\n",
    " \n",
    "\n",
    "print(\"Palindrome : \",palindrome)\n",
    "print(\"non_palindrome : \",non_palindrome)"
   ]
  },
  {
   "cell_type": "markdown",
   "id": "5f315c32-1a6d-49f1-bd24-da9a61bbf9c0",
   "metadata": {},
   "source": [
    "## User Defined Functions"
   ]
  },
  {
   "cell_type": "code",
   "execution_count": 17,
   "id": "4e52c6ed-1489-48d0-af79-1fd976c0cfc1",
   "metadata": {},
   "outputs": [
    {
     "name": "stdin",
     "output_type": "stream",
     "text": [
      "Enter Your name :  keshav\n"
     ]
    },
    {
     "name": "stdout",
     "output_type": "stream",
     "text": [
      "Your name is :  keshav\n"
     ]
    }
   ],
   "source": [
    "def print_name(name):\n",
    "    print(\"Your name is : \",name)\n",
    "\n",
    "user_name=input(\"Enter Your name : \")\n",
    "print_name(user_name)"
   ]
  },
  {
   "cell_type": "code",
   "execution_count": 20,
   "id": "46689bb9-9853-4395-a441-8d201e80a78f",
   "metadata": {},
   "outputs": [],
   "source": [
    "def pname(name):\n",
    "    print(name)"
   ]
  },
  {
   "cell_type": "code",
   "execution_count": 21,
   "id": "89cf7838-0de0-4701-9fc9-aba74225713c",
   "metadata": {},
   "outputs": [
    {
     "name": "stdout",
     "output_type": "stream",
     "text": [
      "Keshav\n"
     ]
    }
   ],
   "source": [
    "pname(\"Keshav\")"
   ]
  },
  {
   "cell_type": "code",
   "execution_count": 121,
   "id": "4982d836-7831-4d9d-a76d-aa6efc4dd638",
   "metadata": {},
   "outputs": [
    {
     "data": {
      "text/plain": [
       "200"
      ]
     },
     "execution_count": 121,
     "metadata": {},
     "output_type": "execute_result"
    }
   ],
   "source": [
    "def mult(a,b):\n",
    "    return a*b\n",
    "\n",
    "mult(10,20)"
   ]
  },
  {
   "cell_type": "code",
   "execution_count": 122,
   "id": "2880f8e0-f8ba-4e1a-92e5-46dda1ac8d77",
   "metadata": {},
   "outputs": [
    {
     "data": {
      "text/plain": [
       "650"
      ]
     },
     "execution_count": 122,
     "metadata": {},
     "output_type": "execute_result"
    }
   ],
   "source": [
    "mult(10,65)"
   ]
  },
  {
   "cell_type": "code",
   "execution_count": 35,
   "id": "20c33758-9e9a-4c4f-9c01-750e762b62c1",
   "metadata": {},
   "outputs": [
    {
     "name": "stdin",
     "output_type": "stream",
     "text": [
      "Enter Your Joining Date in 'DD-MM-YYYY' Format :  22-5-2025\n",
      "Enter Your Course Name :  AI Engineer\n",
      "Enter Your Course Location :  Pune\n"
     ]
    },
    {
     "name": "stdout",
     "output_type": "stream",
     "text": [
      "Your Batch id is 22-5-2025-AI Engineer-Pune\n"
     ]
    }
   ],
   "source": [
    "def batchid(batchid):\n",
    "    print(f\"Your Batch id is {date}-{course_name}-{location}\")\n",
    "\n",
    "date=input(\"Enter Your Joining Date in 'DD-MM-YYYY' Format : \")\n",
    "course_name=input(\"Enter Your Course Name : \")\n",
    "\n",
    "      if course_name==AI Engineer:\n",
    "                      cour_name = AEC\n",
    "      elif course_name== Data Science:\n",
    "                      cour_name = CDC\n",
    "      elif course_name== Data Analytics:\n",
    "                      cour_name = CDA\n",
    "      \n",
    "\n",
    "\n",
    "\n",
    "\n",
    "\n",
    "location = input(\"Enter Your Course Location : \")\n",
    "\n",
    "batchid(batchid)"
   ]
  },
  {
   "cell_type": "code",
   "execution_count": 23,
   "id": "a8709d6b-cb94-4401-9160-5496540ea711",
   "metadata": {},
   "outputs": [],
   "source": [
    "def area_of_circle(r):\n",
    "    area=3.14*r**2\n",
    "    print(area)"
   ]
  },
  {
   "cell_type": "code",
   "execution_count": 24,
   "id": "f2c5bb18-8f07-452e-88aa-f7920c2a9dc1",
   "metadata": {},
   "outputs": [
    {
     "name": "stdout",
     "output_type": "stream",
     "text": [
      "153.86\n"
     ]
    }
   ],
   "source": [
    "area_of_circle(7)"
   ]
  },
  {
   "cell_type": "code",
   "execution_count": 26,
   "id": "94f352ee-9ecb-48ea-8ea7-03bcb7eaa468",
   "metadata": {},
   "outputs": [],
   "source": [
    "def parameter_of_square(side):\n",
    "    ps=4*side\n",
    "    print(ps)"
   ]
  },
  {
   "cell_type": "code",
   "execution_count": 27,
   "id": "c064ae4b-d707-47a3-ab0e-35060d4d4827",
   "metadata": {},
   "outputs": [
    {
     "name": "stdout",
     "output_type": "stream",
     "text": [
      "20\n"
     ]
    }
   ],
   "source": [
    "parameter_of_square(5)"
   ]
  },
  {
   "cell_type": "code",
   "execution_count": 49,
   "id": "02b470b9-3849-43d3-9215-b24babd654c5",
   "metadata": {},
   "outputs": [],
   "source": [
    "def cube(value):\n",
    "    cr=value**(1/3)\n",
    "    print(cr)\n",
    "    "
   ]
  },
  {
   "cell_type": "code",
   "execution_count": 48,
   "id": "c0420d63-8131-442e-b862-62b790c0bc9f",
   "metadata": {},
   "outputs": [
    {
     "name": "stdout",
     "output_type": "stream",
     "text": [
      "1\n"
     ]
    }
   ],
   "source": [
    "cube(8)"
   ]
  },
  {
   "cell_type": "code",
   "execution_count": 39,
   "id": "c7569aa8-bfb6-4e72-bb48-3fd9f92d0506",
   "metadata": {},
   "outputs": [],
   "source": [
    "def rectangle(l,b):\n",
    "    area=l*b\n",
    "    print(area)"
   ]
  },
  {
   "cell_type": "code",
   "execution_count": 40,
   "id": "1f15b19a-d94c-4d54-8ae2-628bb28ce8b5",
   "metadata": {},
   "outputs": [
    {
     "name": "stdout",
     "output_type": "stream",
     "text": [
      "20\n"
     ]
    }
   ],
   "source": [
    "rectangle(4,5)"
   ]
  },
  {
   "cell_type": "code",
   "execution_count": 66,
   "id": "81feef41-c392-4826-9dc6-a5615932369c",
   "metadata": {},
   "outputs": [],
   "source": [
    "def user(name,userid,country):\n",
    "    print (\" Name is             :\",name)\n",
    "    print (f\" Userid of {name} is :\",userid)\n",
    "    print(f\" Country of {name} is:\",country)"
   ]
  },
  {
   "cell_type": "code",
   "execution_count": 67,
   "id": "eb15ecde-a7a2-4ffa-9c79-28df4cace7f5",
   "metadata": {},
   "outputs": [
    {
     "name": "stdout",
     "output_type": "stream",
     "text": [
      " Name is             : Keshav\n",
      " Userid of Keshav is : 99\n",
      " Country of Keshav is: India\n"
     ]
    }
   ],
   "source": [
    "user('Keshav',99,'India')"
   ]
  },
  {
   "cell_type": "code",
   "execution_count": 91,
   "id": "b9831f55-fab2-410a-982d-c80166ba7688",
   "metadata": {},
   "outputs": [],
   "source": [
    "def evenorodd():\n",
    "    a=int(input(\"Enter Your Number : \"))\n",
    "    if a%2==0:\n",
    "        print(\"The Number  is Even\")\n",
    "    else:\n",
    "        print(\"The Number is Odd\")"
   ]
  },
  {
   "cell_type": "code",
   "execution_count": 92,
   "id": "abd815a5-61a5-41dd-9125-bd5166cb7f2d",
   "metadata": {},
   "outputs": [
    {
     "name": "stdin",
     "output_type": "stream",
     "text": [
      "Enter Your Number :  5\n"
     ]
    },
    {
     "ename": "TypeError",
     "evalue": "'str' object is not callable",
     "output_type": "error",
     "traceback": [
      "\u001b[1;31m---------------------------------------------------------------------------\u001b[0m",
      "\u001b[1;31mTypeError\u001b[0m                                 Traceback (most recent call last)",
      "Cell \u001b[1;32mIn[92], line 1\u001b[0m\n\u001b[1;32m----> 1\u001b[0m evenorodd()\n",
      "Cell \u001b[1;32mIn[91], line 2\u001b[0m, in \u001b[0;36mevenorodd\u001b[1;34m()\u001b[0m\n\u001b[0;32m      1\u001b[0m \u001b[38;5;28;01mdef\u001b[39;00m \u001b[38;5;21mevenorodd\u001b[39m():\n\u001b[1;32m----> 2\u001b[0m     a\u001b[38;5;241m=\u001b[39m\u001b[38;5;28mint\u001b[39m(\u001b[38;5;28minput\u001b[39m(\u001b[38;5;124m\"\u001b[39m\u001b[38;5;124mEnter Your Number : \u001b[39m\u001b[38;5;124m\"\u001b[39m))\n\u001b[0;32m      3\u001b[0m     \u001b[38;5;28;01mif\u001b[39;00m a\u001b[38;5;241m%\u001b[39m\u001b[38;5;241m2\u001b[39m\u001b[38;5;241m==\u001b[39m\u001b[38;5;241m0\u001b[39m:\n\u001b[0;32m      4\u001b[0m         \u001b[38;5;28mprint\u001b[39m(\u001b[38;5;124m\"\u001b[39m\u001b[38;5;124mThe Number  is Even\u001b[39m\u001b[38;5;124m\"\u001b[39m)\n",
      "\u001b[1;31mTypeError\u001b[0m: 'str' object is not callable"
     ]
    }
   ],
   "source": [
    "evenorodd()"
   ]
  },
  {
   "cell_type": "code",
   "execution_count": 71,
   "id": "5ce3af20-2176-4437-8fec-8c97fe75d783",
   "metadata": {},
   "outputs": [],
   "source": [
    "def squareofnum(a):\n",
    "    return a**2"
   ]
  },
  {
   "cell_type": "code",
   "execution_count": 72,
   "id": "c5a5e424-775b-4f10-9d2f-a520c7503ddc",
   "metadata": {},
   "outputs": [
    {
     "data": {
      "text/plain": [
       "144"
      ]
     },
     "execution_count": 72,
     "metadata": {},
     "output_type": "execute_result"
    }
   ],
   "source": [
    "squareofnum(12)"
   ]
  },
  {
   "cell_type": "code",
   "execution_count": 73,
   "id": "e930e5bf-b7d1-4d40-a03a-fbfd24fcac2c",
   "metadata": {},
   "outputs": [
    {
     "data": {
      "text/plain": [
       "7225"
      ]
     },
     "execution_count": 73,
     "metadata": {},
     "output_type": "execute_result"
    }
   ],
   "source": [
    "squareofnum(85)"
   ]
  },
  {
   "cell_type": "code",
   "execution_count": 74,
   "id": "e79f81c3-a1ed-4d8c-8da8-cf287761d696",
   "metadata": {},
   "outputs": [],
   "source": [
    "def add(a,b):\n",
    "    return (\"The Addition of a+b is : \",a+b)"
   ]
  },
  {
   "cell_type": "code",
   "execution_count": 75,
   "id": "9a33f475-5fb4-4a1e-8bd5-ed554b12b54e",
   "metadata": {},
   "outputs": [
    {
     "data": {
      "text/plain": [
       "('The Addition of a+b is : ', 15)"
      ]
     },
     "execution_count": 75,
     "metadata": {},
     "output_type": "execute_result"
    }
   ],
   "source": [
    "add(10,5)"
   ]
  },
  {
   "cell_type": "code",
   "execution_count": 82,
   "id": "3aa04cdc-b389-48c8-add7-7af702a8f5ea",
   "metadata": {},
   "outputs": [],
   "source": [
    "def rate(principal,time,roi):\n",
    "    print(\"Principal Amount is :\",principal)\n",
    "    print(\"Time is             :\",time)\n",
    "    print(\"Rate of Interest is :\",roi)\n",
    "    interest=principal*time*roi/100\n",
    "    a=principal+interest\n",
    "    print(\"The Interest is     :\",interest)\n",
    "    print(\"The Total Amount is :\",a)"
   ]
  },
  {
   "cell_type": "code",
   "execution_count": 83,
   "id": "2e1e0780-d529-460c-ba80-e4407ef65a1a",
   "metadata": {},
   "outputs": [
    {
     "name": "stdout",
     "output_type": "stream",
     "text": [
      "Principal Amount is : 10000\n",
      "Time is             : 12\n",
      "Rate of Interest is : 10\n",
      "The Interest is     : 12000.0\n",
      "The Total Amount is : 22000.0\n"
     ]
    }
   ],
   "source": [
    "rate(10000,12,10)"
   ]
  },
  {
   "cell_type": "code",
   "execution_count": 84,
   "id": "829432b5-8661-4755-aeec-c4b759e2aa96",
   "metadata": {},
   "outputs": [],
   "source": [
    "def fib_series(n):\n",
    "    a,b=0,1\n",
    "    for i in range(n+1):\n",
    "        yield a\n",
    "        a,b=b,a+b"
   ]
  },
  {
   "cell_type": "code",
   "execution_count": 87,
   "id": "7ccf7e70-afbe-4dae-a483-8bf60d879e37",
   "metadata": {},
   "outputs": [
    {
     "data": {
      "text/plain": [
       "[0,\n",
       " 1,\n",
       " 1,\n",
       " 2,\n",
       " 3,\n",
       " 5,\n",
       " 8,\n",
       " 13,\n",
       " 21,\n",
       " 34,\n",
       " 55,\n",
       " 89,\n",
       " 144,\n",
       " 233,\n",
       " 377,\n",
       " 610,\n",
       " 987,\n",
       " 1597,\n",
       " 2584,\n",
       " 4181,\n",
       " 6765,\n",
       " 10946,\n",
       " 17711,\n",
       " 28657,\n",
       " 46368,\n",
       " 75025,\n",
       " 121393,\n",
       " 196418,\n",
       " 317811,\n",
       " 514229,\n",
       " 832040,\n",
       " 1346269,\n",
       " 2178309,\n",
       " 3524578,\n",
       " 5702887,\n",
       " 9227465,\n",
       " 14930352,\n",
       " 24157817,\n",
       " 39088169,\n",
       " 63245986,\n",
       " 102334155,\n",
       " 165580141,\n",
       " 267914296,\n",
       " 433494437,\n",
       " 701408733,\n",
       " 1134903170,\n",
       " 1836311903,\n",
       " 2971215073,\n",
       " 4807526976,\n",
       " 7778742049,\n",
       " 12586269025,\n",
       " 20365011074,\n",
       " 32951280099,\n",
       " 53316291173,\n",
       " 86267571272,\n",
       " 139583862445]"
      ]
     },
     "execution_count": 87,
     "metadata": {},
     "output_type": "execute_result"
    }
   ],
   "source": [
    "list(fib_series(55))"
   ]
  },
  {
   "cell_type": "markdown",
   "id": "45f8e967-e8da-4ba9-b387-aa4338e873e6",
   "metadata": {},
   "source": [
    "# Lambda Function"
   ]
  },
  {
   "cell_type": "code",
   "execution_count": 93,
   "id": "12b80167-9afe-42bb-9012-725a6f71d513",
   "metadata": {},
   "outputs": [],
   "source": [
    "addition = lambda a : a+10"
   ]
  },
  {
   "cell_type": "code",
   "execution_count": 94,
   "id": "4483e92b-7b62-4aa1-b42e-86f1546d9a95",
   "metadata": {},
   "outputs": [
    {
     "data": {
      "text/plain": [
       "19"
      ]
     },
     "execution_count": 94,
     "metadata": {},
     "output_type": "execute_result"
    }
   ],
   "source": [
    "addition(9)"
   ]
  },
  {
   "cell_type": "code",
   "execution_count": 96,
   "id": "def00e4d-9675-4294-9e88-01c44a8441d9",
   "metadata": {},
   "outputs": [],
   "source": [
    "square = lambda x :x**2"
   ]
  },
  {
   "cell_type": "code",
   "execution_count": 98,
   "id": "d14844aa-64c3-4b5f-89f4-830d38af21c0",
   "metadata": {},
   "outputs": [
    {
     "data": {
      "text/plain": [
       "25"
      ]
     },
     "execution_count": 98,
     "metadata": {},
     "output_type": "execute_result"
    }
   ],
   "source": [
    "square(5)"
   ]
  },
  {
   "cell_type": "code",
   "execution_count": 99,
   "id": "50c859ff-e5f9-4bb8-88dd-7a2f5adacabb",
   "metadata": {},
   "outputs": [],
   "source": [
    "add = lambda a,b : a+b"
   ]
  },
  {
   "cell_type": "code",
   "execution_count": 100,
   "id": "9615ec68-8f0d-4c32-8bfb-c6c3a20330e8",
   "metadata": {},
   "outputs": [
    {
     "data": {
      "text/plain": [
       "11"
      ]
     },
     "execution_count": 100,
     "metadata": {},
     "output_type": "execute_result"
    }
   ],
   "source": [
    "add(5,6)"
   ]
  },
  {
   "cell_type": "code",
   "execution_count": 101,
   "id": "d9877297-73e0-4a6f-bdd7-612861cd300c",
   "metadata": {},
   "outputs": [],
   "source": [
    "multi = lambda a,b : a*b"
   ]
  },
  {
   "cell_type": "code",
   "execution_count": 102,
   "id": "da143921-2978-4494-aeff-f35d8dc7f122",
   "metadata": {},
   "outputs": [
    {
     "data": {
      "text/plain": [
       "120"
      ]
     },
     "execution_count": 102,
     "metadata": {},
     "output_type": "execute_result"
    }
   ],
   "source": [
    "multi(20,6)"
   ]
  },
  {
   "cell_type": "markdown",
   "id": "f53d0deb-036a-4c70-80f8-733c7b7d283b",
   "metadata": {},
   "source": [
    "## Filter function in lambda"
   ]
  },
  {
   "cell_type": "code",
   "execution_count": 107,
   "id": "27d5999b-551d-4e1d-a5c2-5bba605b5389",
   "metadata": {},
   "outputs": [
    {
     "name": "stdout",
     "output_type": "stream",
     "text": [
      "[1, 3, 5, 15, 65, 15, 95]\n",
      "[0, 2, 4, 6, 78, 74]\n"
     ]
    }
   ],
   "source": [
    "seq=[0,1,2,3,5,4,6,78,15,65,15,74,95]\n",
    "\n",
    "result=filter(lambda x : x%2!=0,seq)\n",
    "print(list(result))\n",
    "\n",
    "result=filter(lambda x : x%2==0,seq)\n",
    "print(list(result))"
   ]
  },
  {
   "cell_type": "code",
   "execution_count": 109,
   "id": "4bc877b8-ecb1-432d-a0e4-81efba2c08a5",
   "metadata": {},
   "outputs": [
    {
     "name": "stdout",
     "output_type": "stream",
     "text": [
      "['bob', 'mom', 'madam']\n"
     ]
    }
   ],
   "source": [
    "l1=[\"bob\",'mom','tom','abhi','raj','madam']\n",
    "\n",
    "result=filter(lambda x:x==x[::-1],l1)\n",
    "print(list(result))"
   ]
  },
  {
   "cell_type": "code",
   "execution_count": 113,
   "id": "16f841f1-2791-4e60-99da-b25ac25d9631",
   "metadata": {},
   "outputs": [
    {
     "data": {
      "text/plain": [
       "[1, 2, 3, 4, 5, 6, 7, 8, 9, 10]"
      ]
     },
     "execution_count": 113,
     "metadata": {},
     "output_type": "execute_result"
    }
   ],
   "source": [
    "l1=list(range(1,11))\n",
    "l1"
   ]
  },
  {
   "cell_type": "markdown",
   "id": "94d6f218-16f0-45e2-a056-9011892587c8",
   "metadata": {},
   "source": [
    "## Map Function"
   ]
  },
  {
   "cell_type": "code",
   "execution_count": 114,
   "id": "a0d8d4d2-4283-493a-acad-f5bd302b3bd0",
   "metadata": {},
   "outputs": [
    {
     "data": {
      "text/plain": [
       "[1, 8, 27, 64, 125, 216, 343, 512, 729, 1000]"
      ]
     },
     "execution_count": 114,
     "metadata": {},
     "output_type": "execute_result"
    }
   ],
   "source": [
    "list(map(lambda x : x**3,l1))"
   ]
  },
  {
   "cell_type": "code",
   "execution_count": 116,
   "id": "2858fb9e-b153-4e1b-9214-9cfd4a0ee932",
   "metadata": {},
   "outputs": [
    {
     "name": "stdout",
     "output_type": "stream",
     "text": [
      "[5, 7, 9]\n"
     ]
    }
   ],
   "source": [
    "numbers1=[1,2,3]\n",
    "numbers2=[4,5,6]\n",
    "\n",
    "result=map(lambda x,y : x+y,numbers1,numbers2)\n",
    "print(list(result))"
   ]
  },
  {
   "cell_type": "code",
   "execution_count": 119,
   "id": "cc0f9c74-ce17-4af4-bad6-a8eb88df3787",
   "metadata": {},
   "outputs": [
    {
     "name": "stdout",
     "output_type": "stream",
     "text": [
      "[['s', 'a', 't'], ['m', 'a', 't'], ['c', 'a', 't'], ['b', 'a', 't']]\n"
     ]
    }
   ],
   "source": [
    "l=['sat','mat','cat','bat']\n",
    "\n",
    "test= list(map(list,l))\n",
    "print(test)"
   ]
  },
  {
   "cell_type": "markdown",
   "id": "78dd9ab7-a4df-4dba-b894-eb61d5009f14",
   "metadata": {},
   "source": [
    "# Reduce Function"
   ]
  },
  {
   "cell_type": "code",
   "execution_count": 122,
   "id": "cf832da0-d8e5-4104-a3c9-0792050df804",
   "metadata": {},
   "outputs": [
    {
     "name": "stdout",
     "output_type": "stream",
     "text": [
      "17\n"
     ]
    }
   ],
   "source": [
    "# functools is use to reduce\n",
    "import functools\n",
    "\n",
    "lis=[1,3,5,6,2]\n",
    "\n",
    "# Using reduce function we can do sum of list\n",
    "print(functools.reduce(lambda a,b : a+b,lis))"
   ]
  },
  {
   "cell_type": "code",
   "execution_count": 123,
   "id": "6a98542f-7e1a-42e9-967f-c535d45c483d",
   "metadata": {},
   "outputs": [
    {
     "name": "stdout",
     "output_type": "stream",
     "text": [
      "24\n"
     ]
    }
   ],
   "source": [
    "import functools\n",
    "l1=[1,2,3,4]\n",
    "print(functools.reduce(lambda a,b:a*b,l1))\n"
   ]
  },
  {
   "cell_type": "code",
   "execution_count": 126,
   "id": "9f05be70-dd61-4235-af30-82d8388f5b9c",
   "metadata": {},
   "outputs": [
    {
     "name": "stdout",
     "output_type": "stream",
     "text": [
      "6\n"
     ]
    }
   ],
   "source": [
    "lis=[1,3,5,6,2]\n",
    "\n",
    "print(functools.reduce(lambda a,b: a if a>b else b,lis))"
   ]
  },
  {
   "cell_type": "code",
   "execution_count": 3,
   "id": "ada38d39-12cc-4cac-ad3d-dd4e23a7e46f",
   "metadata": {},
   "outputs": [
    {
     "name": "stdin",
     "output_type": "stream",
     "text": [
      " 85\n",
      " 30\n"
     ]
    },
    {
     "name": "stdout",
     "output_type": "stream",
     "text": [
      "Addition of number 85 and 30 is 115\n"
     ]
    }
   ],
   "source": [
    "n1=int(input())\n",
    "n2=int(input())\n",
    "\n",
    "if (n1>40)and (n2<40):\n",
    "    c=n1+n2\n",
    "    print(f\"Addition of number {n1} and {n2} is {c}\")\n",
    "else :\n",
    "    d=n1-n2\n",
    "    print(f\"Substraction of number {n1} and {n2} is {d}\")"
   ]
  },
  {
   "cell_type": "code",
   "execution_count": 5,
   "id": "cecfe007-8878-43bb-8542-4529dcca3958",
   "metadata": {},
   "outputs": [
    {
     "name": "stdin",
     "output_type": "stream",
     "text": [
      "Enter Number :  12\n"
     ]
    },
    {
     "name": "stdout",
     "output_type": "stream",
     "text": [
      "12 is divisible by 2 and 3\n"
     ]
    }
   ],
   "source": [
    "num11=int(input(\"Enter Number : \"))\n",
    "if (num11%2==0) and (num11%3==0):\n",
    "    print(f\"{num11} is divisible by 2 and 3\")\n",
    "elif num11%2==0:\n",
    "    print(f\"{num11} is divisible by 2\")\n",
    "elif num11%3==0:\n",
    "    print(f\"{num11} is divisible by 3\")\n",
    "else :\n",
    "    \n",
    "    print(f\"{num11} is neither divisble by 2 and 3\")"
   ]
  },
  {
   "cell_type": "code",
   "execution_count": 7,
   "id": "f2033ed2-5cb0-496b-bff7-b612d4f37a98",
   "metadata": {},
   "outputs": [
    {
     "name": "stdin",
     "output_type": "stream",
     "text": [
      "Enter any Number :  95 45 75 63 47 85 44 96 85 12 45 85\n"
     ]
    },
    {
     "name": "stdout",
     "output_type": "stream",
     "text": [
      "Even_Numbers :  [44, 96, 12]\n",
      "Odd Numbers :  [95, 45, 75, 63, 47, 85, 85, 45, 85]\n"
     ]
    }
   ],
   "source": [
    "v=list(map(int,(input(\"Enter any Number : \") .split())))\n",
    "\n",
    "even = []\n",
    "odd = []\n",
    "\n",
    "for i in v:\n",
    "    if i%2==0:\n",
    "        even.append(i)\n",
    "    else :\n",
    "        odd.append(i)\n",
    "print(\"Even_Numbers : \",even)\n",
    "print(\"Odd Numbers : \",odd)"
   ]
  },
  {
   "cell_type": "markdown",
   "id": "4c784f79-7464-45ed-958a-f2a400cf5818",
   "metadata": {},
   "source": [
    "# Enumerate Function"
   ]
  },
  {
   "cell_type": "code",
   "execution_count": 8,
   "id": "5a6b810c-302b-477e-9828-82e02f4bdc4c",
   "metadata": {},
   "outputs": [],
   "source": [
    "l3=['Vijay','Raju','Nagesh','Durgesh','Parth','Abhishek','Aadesh']"
   ]
  },
  {
   "cell_type": "code",
   "execution_count": 9,
   "id": "3493db31-1a6f-4776-8ed8-50954e6ea4e2",
   "metadata": {},
   "outputs": [
    {
     "data": {
      "text/plain": [
       "[(0, 'Vijay'),\n",
       " (1, 'Raju'),\n",
       " (2, 'Nagesh'),\n",
       " (3, 'Durgesh'),\n",
       " (4, 'Parth'),\n",
       " (5, 'Abhishek'),\n",
       " (6, 'Aadesh')]"
      ]
     },
     "execution_count": 9,
     "metadata": {},
     "output_type": "execute_result"
    }
   ],
   "source": [
    "list(enumerate(l3))"
   ]
  },
  {
   "cell_type": "code",
   "execution_count": 10,
   "id": "edb18bcb-5afd-4962-9f49-97149a1b3a00",
   "metadata": {},
   "outputs": [
    {
     "data": {
      "text/plain": [
       "[(1000, 'Vijay'),\n",
       " (1001, 'Raju'),\n",
       " (1002, 'Nagesh'),\n",
       " (1003, 'Durgesh'),\n",
       " (1004, 'Parth'),\n",
       " (1005, 'Abhishek'),\n",
       " (1006, 'Aadesh')]"
      ]
     },
     "execution_count": 10,
     "metadata": {},
     "output_type": "execute_result"
    }
   ],
   "source": [
    "list(enumerate(l3,1000))"
   ]
  },
  {
   "cell_type": "markdown",
   "id": "81931b3f-aab8-4bdc-9d85-f1e1164fa8af",
   "metadata": {},
   "source": [
    "# Zip Function"
   ]
  },
  {
   "cell_type": "code",
   "execution_count": 11,
   "id": "8d785ad2-21d9-456e-a746-84f7bf4bfe14",
   "metadata": {},
   "outputs": [],
   "source": [
    "l1=[1,2,3,4,5]\n"
   ]
  },
  {
   "cell_type": "code",
   "execution_count": 12,
   "id": "f8bb5707-0269-470f-a0d6-e21620920905",
   "metadata": {},
   "outputs": [],
   "source": [
    "l2=['Keshav','Akhilesh','Rajendra','Siddhu','Mocha']"
   ]
  },
  {
   "cell_type": "markdown",
   "id": "e3a86f20-6161-4872-93ad-b939e02e7e25",
   "metadata": {},
   "source": [
    "list(zip(l1,l2))"
   ]
  },
  {
   "cell_type": "code",
   "execution_count": 15,
   "id": "27f5fca9-ccfc-476d-a7d1-045dd88b2b53",
   "metadata": {},
   "outputs": [
    {
     "data": {
      "text/plain": [
       "((1, 'Keshav'), (2, 'Akhilesh'), (3, 'Rajendra'), (4, 'Siddhu'), (5, 'Mocha'))"
      ]
     },
     "execution_count": 15,
     "metadata": {},
     "output_type": "execute_result"
    }
   ],
   "source": [
    "tuple(zip(l1,l2))"
   ]
  },
  {
   "cell_type": "code",
   "execution_count": 16,
   "id": "adbfa450-ba01-469d-89a4-9a96ef739a02",
   "metadata": {},
   "outputs": [
    {
     "name": "stdout",
     "output_type": "stream",
     "text": [
      "('Keshav', 1)\n",
      "('Akhilesh', 2)\n",
      "('Rajendra', 3)\n",
      "('Siddhu', 4)\n",
      "('Mocha', 5)\n"
     ]
    }
   ],
   "source": [
    "for i in zip(l2,l1):\n",
    "    print(i)"
   ]
  },
  {
   "cell_type": "code",
   "execution_count": 17,
   "id": "e6d25b16-f0da-4ced-b1aa-08208695a2f5",
   "metadata": {},
   "outputs": [
    {
     "name": "stdout",
     "output_type": "stream",
     "text": [
      "(1, 'Keshav')\n",
      "(2, 'Akhilesh')\n",
      "(3, 'Rajendra')\n",
      "(4, 'Siddhu')\n",
      "(5, 'Mocha')\n"
     ]
    }
   ],
   "source": [
    "for i in z\n",
    "ip(l1,l2):\n",
    "    print(i)"
   ]
  },
  {
   "cell_type": "markdown",
   "id": "a4d83615-17a8-4cb4-be71-5972dc3a6359",
   "metadata": {},
   "source": [
    "# List Comprehension"
   ]
  },
  {
   "cell_type": "code",
   "execution_count": 19,
   "id": "637dd2ac-689c-4523-8c14-1b3c54304bf1",
   "metadata": {},
   "outputs": [
    {
     "data": {
      "text/plain": [
       "[2, 4, 6, 8, 10, 12, 14, 16, 18, 20]"
      ]
     },
     "execution_count": 19,
     "metadata": {},
     "output_type": "execute_result"
    }
   ],
   "source": [
    "eve2=[i for i in range(1,20+1) if i%2==0]\n",
    "eve2"
   ]
  },
  {
   "cell_type": "code",
   "execution_count": 20,
   "id": "28775856-2d25-4acc-82b2-c800b994dae0",
   "metadata": {},
   "outputs": [
    {
     "data": {
      "text/plain": [
       "[1, 3, 5, 7, 9, 11, 13, 15, 17, 19]"
      ]
     },
     "execution_count": 20,
     "metadata": {},
     "output_type": "execute_result"
    }
   ],
   "source": [
    "odd2=[i for i in range(1,21) if i%2!=0]\n",
    "odd2"
   ]
  },
  {
   "cell_type": "code",
   "execution_count": 21,
   "id": "e4f64a6b-189d-4ca7-aab3-1bc872e58b63",
   "metadata": {},
   "outputs": [
    {
     "data": {
      "text/plain": [
       "[1, 4, 9, 16, 25, 36, 49, 64, 81, 100]"
      ]
     },
     "execution_count": 21,
     "metadata": {},
     "output_type": "execute_result"
    }
   ],
   "source": [
    "\n",
    "sq_num=[i**2 for i in range(1,11)]\n",
    "sq_num"
   ]
  },
  {
   "cell_type": "code",
   "execution_count": 22,
   "id": "c576bbc5-ab3b-4e16-b5e8-79aa5d239d29",
   "metadata": {},
   "outputs": [
    {
     "data": {
      "text/plain": [
       "[1,\n",
       " 8,\n",
       " 27,\n",
       " 64,\n",
       " 125,\n",
       " 216,\n",
       " 343,\n",
       " 512,\n",
       " 729,\n",
       " 1000,\n",
       " 1331,\n",
       " 1728,\n",
       " 2197,\n",
       " 2744,\n",
       " 3375,\n",
       " 4096,\n",
       " 4913,\n",
       " 5832,\n",
       " 6859]"
      ]
     },
     "execution_count": 22,
     "metadata": {},
     "output_type": "execute_result"
    }
   ],
   "source": [
    "cube_num=[i**3 for i in range(1,20)]\n",
    "cube_num"
   ]
  },
  {
   "cell_type": "code",
   "execution_count": 23,
   "id": "3c3a6a5f-c4f4-4b33-909e-c7ec26549def",
   "metadata": {},
   "outputs": [],
   "source": [
    "# y=mx+c Formula of equation of line"
   ]
  },
  {
   "cell_type": "code",
   "execution_count": 24,
   "id": "b4d05310-dce0-47aa-b456-1a245732f7dd",
   "metadata": {},
   "outputs": [],
   "source": [
    "x=[5,2,1,3]\n",
    "c=2\n",
    "m=10"
   ]
  },
  {
   "cell_type": "code",
   "execution_count": 26,
   "id": "ed0f3c16-d362-431f-9a17-eb7a9349d6e1",
   "metadata": {},
   "outputs": [
    {
     "name": "stdout",
     "output_type": "stream",
     "text": [
      "[52, 22, 12, 32]\n"
     ]
    }
   ],
   "source": [
    "y=[]\n",
    "for i in range(len(x)):\n",
    "    a1=(m*x[i]) + c\n",
    "    y.append(a1)\n",
    "\n",
    "print(y)"
   ]
  },
  {
   "cell_type": "code",
   "execution_count": 31,
   "id": "4b360f20-9f87-450c-b2e0-2468ccf07ab3",
   "metadata": {},
   "outputs": [
    {
     "data": {
      "text/plain": [
       "[52, 22, 12, 32]"
      ]
     },
     "execution_count": 31,
     "metadata": {},
     "output_type": "execute_result"
    }
   ],
   "source": [
    "# with list comprehension\n",
    "y1=[(m*x[i]+c) for i in range(len(x))]\n",
    "y1"
   ]
  },
  {
   "cell_type": "code",
   "execution_count": 32,
   "id": "8d0ae302-5d50-4c73-8d36-ac1317d7148c",
   "metadata": {},
   "outputs": [
    {
     "data": {
      "text/plain": [
       "[(1, 'odd'),\n",
       " (2, 'even'),\n",
       " (3, 'odd'),\n",
       " (4, 'even'),\n",
       " (5, 'odd'),\n",
       " (6, 'even'),\n",
       " (7, 'odd'),\n",
       " (8, 'even'),\n",
       " (9, 'odd'),\n",
       " (10, 'even'),\n",
       " (11, 'odd'),\n",
       " (12, 'even'),\n",
       " (13, 'odd'),\n",
       " (14, 'even'),\n",
       " (15, 'odd'),\n",
       " (16, 'even'),\n",
       " (17, 'odd'),\n",
       " (18, 'even'),\n",
       " (19, 'odd'),\n",
       " (20, 'even')]"
      ]
     },
     "execution_count": 32,
     "metadata": {},
     "output_type": "execute_result"
    }
   ],
   "source": [
    "even_odd=[(i,'even' if i%2==0 else 'odd') for i in range(1,21)]\n",
    "even_odd"
   ]
  },
  {
   "cell_type": "code",
   "execution_count": 33,
   "id": "f6770231-339d-4092-81c8-88f70c4e0e45",
   "metadata": {},
   "outputs": [],
   "source": [
    "def multiply(x:int,y:int|float):\n",
    "    z=x*y\n",
    "    print(z)"
   ]
  },
  {
   "cell_type": "code",
   "execution_count": 34,
   "id": "566374f4-7458-4368-aace-e131be147155",
   "metadata": {},
   "outputs": [
    {
     "name": "stdout",
     "output_type": "stream",
     "text": [
      "144\n"
     ]
    }
   ],
   "source": [
    "multiply(12,12)"
   ]
  },
  {
   "cell_type": "code",
   "execution_count": 36,
   "id": "107e08d9-b226-415f-98a0-c57fc07f5160",
   "metadata": {},
   "outputs": [
    {
     "name": "stdout",
     "output_type": "stream",
     "text": [
      "AAA\n"
     ]
    }
   ],
   "source": [
    "multiply(\"A\",3)\n",
    "# here aapneko error aana chahiye tha lekin aya nhi isliye hume ensure annotation call krna padega"
   ]
  },
  {
   "cell_type": "code",
   "execution_count": 38,
   "id": "7ce7bfac-96b7-4c83-9c25-6182c0ff254a",
   "metadata": {},
   "outputs": [
    {
     "name": "stdout",
     "output_type": "stream",
     "text": [
      "Collecting ensure\n",
      "  Downloading ensure-1.0.4-py3-none-any.whl.metadata (10 kB)\n",
      "Requirement already satisfied: six>=1.11.0 in d:\\users\\loq\\anaconda3\\lib\\site-packages (from ensure) (1.16.0)\n",
      "Downloading ensure-1.0.4-py3-none-any.whl (15 kB)\n",
      "Installing collected packages: ensure\n",
      "Successfully installed ensure-1.0.4\n",
      "Note: you may need to restart the kernel to use updated packages.\n"
     ]
    }
   ],
   "source": [
    "#pip install ensure"
   ]
  },
  {
   "cell_type": "code",
   "execution_count": 39,
   "id": "6096d144-0331-487e-af47-5dabe83a5027",
   "metadata": {},
   "outputs": [],
   "source": [
    "from ensure import ensure_annotations"
   ]
  },
  {
   "cell_type": "code",
   "execution_count": 40,
   "id": "4a77158b-5346-4640-a788-d6bafb7f2ca2",
   "metadata": {},
   "outputs": [],
   "source": [
    "@ensure_annotations\n",
    "def mult1(x:int,y:int|float):\n",
    "    z=x*y\n",
    "    print(z)"
   ]
  },
  {
   "cell_type": "code",
   "execution_count": 41,
   "id": "b6d90252-b44d-40e4-be08-58a8ecb529e1",
   "metadata": {},
   "outputs": [
    {
     "name": "stdout",
     "output_type": "stream",
     "text": [
      "168\n"
     ]
    }
   ],
   "source": [
    "mult1(12,14)"
   ]
  },
  {
   "cell_type": "code",
   "execution_count": 43,
   "id": "23ab66bc-5467-47d5-afae-1a12d8c8d4e2",
   "metadata": {},
   "outputs": [
    {
     "ename": "EnsureError",
     "evalue": "Argument x of type <class 'str'> to <function mult1 at 0x000002A407F4C900> does not match annotation type <class 'int'>",
     "output_type": "error",
     "traceback": [
      "\u001b[1;31m---------------------------------------------------------------------------\u001b[0m",
      "\u001b[1;31mEnsureError\u001b[0m                               Traceback (most recent call last)",
      "Cell \u001b[1;32mIn[43], line 1\u001b[0m\n\u001b[1;32m----> 1\u001b[0m mult1(\u001b[38;5;124m\"\u001b[39m\u001b[38;5;124mA\u001b[39m\u001b[38;5;124m\"\u001b[39m,\u001b[38;5;241m3\u001b[39m)\n",
      "File \u001b[1;32mD:\\Users\\LOQ\\anaconda3\\Lib\\site-packages\\ensure\\main.py:833\u001b[0m, in \u001b[0;36mWrappedFunction.__call__\u001b[1;34m(self, *args, **kwargs)\u001b[0m\n\u001b[0;32m    831\u001b[0m     \u001b[38;5;28;01mif\u001b[39;00m \u001b[38;5;129;01mnot\u001b[39;00m \u001b[38;5;28misinstance\u001b[39m(value, templ):\n\u001b[0;32m    832\u001b[0m         msg \u001b[38;5;241m=\u001b[39m \u001b[38;5;124m\"\u001b[39m\u001b[38;5;124mArgument \u001b[39m\u001b[38;5;132;01m{arg}\u001b[39;00m\u001b[38;5;124m of type \u001b[39m\u001b[38;5;132;01m{valt}\u001b[39;00m\u001b[38;5;124m to \u001b[39m\u001b[38;5;132;01m{f}\u001b[39;00m\u001b[38;5;124m \u001b[39m\u001b[38;5;124m\"\u001b[39m \u001b[38;5;124m\"\u001b[39m\u001b[38;5;124mdoes not match annotation type \u001b[39m\u001b[38;5;132;01m{t}\u001b[39;00m\u001b[38;5;124m\"\u001b[39m\n\u001b[1;32m--> 833\u001b[0m         \u001b[38;5;28;01mraise\u001b[39;00m EnsureError(msg\u001b[38;5;241m.\u001b[39mformat(arg\u001b[38;5;241m=\u001b[39marg, f\u001b[38;5;241m=\u001b[39m\u001b[38;5;28mself\u001b[39m\u001b[38;5;241m.\u001b[39mf, t\u001b[38;5;241m=\u001b[39mtempl, valt\u001b[38;5;241m=\u001b[39m\u001b[38;5;28mtype\u001b[39m(value)))\n\u001b[0;32m    835\u001b[0m \u001b[38;5;28;01mreturn\u001b[39;00m \u001b[38;5;28mself\u001b[39m\u001b[38;5;241m.\u001b[39mf(\u001b[38;5;241m*\u001b[39margs, \u001b[38;5;241m*\u001b[39m\u001b[38;5;241m*\u001b[39mkwargs)\n",
      "\u001b[1;31mEnsureError\u001b[0m: Argument x of type <class 'str'> to <function mult1 at 0x000002A407F4C900> does not match annotation type <class 'int'>"
     ]
    }
   ],
   "source": [
    "mult1(\"A\",3)\n",
    "# here we get error"
   ]
  },
  {
   "cell_type": "code",
   "execution_count": 44,
   "id": "c0fe8f53-9bea-4560-9bdc-f17a8cba5ceb",
   "metadata": {},
   "outputs": [
    {
     "name": "stdout",
     "output_type": "stream",
     "text": [
      "150\n"
     ]
    }
   ],
   "source": [
    "mult1(10,15)"
   ]
  },
  {
   "cell_type": "code",
   "execution_count": 46,
   "id": "95906d35-4216-4121-b6f0-d19fd6b5b1c3",
   "metadata": {},
   "outputs": [],
   "source": [
    "def sq_num(n):\n",
    "    for i in range(1,n+1):\n",
    "        yield i**2"
   ]
  },
  {
   "cell_type": "code",
   "execution_count": 49,
   "id": "248fd0c2-57b6-4094-bde5-b0f0824599f5",
   "metadata": {},
   "outputs": [
    {
     "data": {
      "text/plain": [
       "[1, 4, 9, 16, 25, 36, 49, 64, 81, 100]"
      ]
     },
     "execution_count": 49,
     "metadata": {},
     "output_type": "execute_result"
    }
   ],
   "source": [
    "list(sq_num(10))"
   ]
  },
  {
   "cell_type": "markdown",
   "id": "08173a4e-729d-4616-b285-106545f8b50e",
   "metadata": {},
   "source": [
    "# Aggregate function"
   ]
  },
  {
   "cell_type": "code",
   "execution_count": null,
   "id": "333a1e76-5b96-45cb-8440-5f32871feb5d",
   "metadata": {},
   "outputs": [],
   "source": [
    "# aggregate (*args) function "
   ]
  },
  {
   "cell_type": "code",
   "execution_count": 52,
   "id": "bf589a7d-fc35-4a0f-bb4a-1c7ad0a421ab",
   "metadata": {},
   "outputs": [],
   "source": [
    "def mult(*args):\n",
    "    p=1\n",
    "    for i in args:\n",
    "        p=p*i\n",
    "        return p"
   ]
  },
  {
   "cell_type": "code",
   "execution_count": 53,
   "id": "05168598-2bd1-44e7-a96b-a000b88916b3",
   "metadata": {},
   "outputs": [
    {
     "data": {
      "text/plain": [
       "23"
      ]
     },
     "execution_count": 53,
     "metadata": {},
     "output_type": "execute_result"
    }
   ],
   "source": [
    "9mult(23,24,25,74,5,2)"
   ]
  },
  {
   "cell_type": "code",
   "execution_count": 2,
   "id": "63d1d47f-1a33-4ed6-8744-19e8499c7008",
   "metadata": {},
   "outputs": [],
   "source": [
    "def fun2(**kwargs):\n",
    "    print(kwargs.items())"
   ]
  },
  {
   "cell_type": "code",
   "execution_count": 3,
   "id": "d8864ea8-6909-4be2-95af-449e1643515c",
   "metadata": {},
   "outputs": [
    {
     "name": "stdout",
     "output_type": "stream",
     "text": [
      "dict_items([('name', 'Nikhil'), ('age', 25), ('place', 'pune')])\n"
     ]
    }
   ],
   "source": [
    "fun2(name='Nikhil',age=25,place='pune')"
   ]
  },
  {
   "cell_type": "code",
   "execution_count": 4,
   "id": "8e6b5e02-d0e2-43c4-95ea-5d258f761b5e",
   "metadata": {},
   "outputs": [],
   "source": [
    "def count(*args,**kwargs):\n",
    "    return len(args),len(kwargs)"
   ]
  },
  {
   "cell_type": "code",
   "execution_count": 5,
   "id": "b9201916-e335-423f-9bc5-879ee8f28b53",
   "metadata": {},
   "outputs": [
    {
     "data": {
      "text/plain": [
       "(7, 2)"
      ]
     },
     "execution_count": 5,
     "metadata": {},
     "output_type": "execute_result"
    }
   ],
   "source": [
    "count(1,2,3,4,5,6,'Vijay',name='Vijay',last_name='Takmoge')"
   ]
  },
  {
   "cell_type": "code",
   "execution_count": 9,
   "id": "61eeab68-6299-41fb-82f3-e6e0a58fc70b",
   "metadata": {},
   "outputs": [],
   "source": [
    "def stu_marks(**kwargs):\n",
    "    for name,marks in kwargs.items():\n",
    "        if marks>=35:\n",
    "            pf=\"Pass\"\n",
    "        else:\n",
    "            pf='Fail'\n",
    "        print(f\"Hi {name} you have {pf}\")"
   ]
  },
  {
   "cell_type": "code",
   "execution_count": 10,
   "id": "6373b94e-3ee7-4ac2-ae43-6abb3cd7d766",
   "metadata": {},
   "outputs": [
    {
     "name": "stdout",
     "output_type": "stream",
     "text": [
      "Hi vijay you have Pass\n",
      "Hi kishan you have Pass\n",
      "Hi niks you have Fail\n"
     ]
    }
   ],
   "source": [
    "a=stu_marks(vijay=55,kishan=48,niks=25)\n",
    "a"
   ]
  },
  {
   "cell_type": "code",
   "execution_count": 11,
   "id": "9604a096-8fb1-4a87-96a5-64428d8ab513",
   "metadata": {},
   "outputs": [
    {
     "name": "stdout",
     "output_type": "stream",
     "text": [
      "Hi niks you have Pass\n",
      "Hi kishan you have Fail\n",
      "Hi jack you have Pass\n"
     ]
    }
   ],
   "source": [
    "stu_marks(niks=89,kishan=25,jack=47)"
   ]
  },
  {
   "cell_type": "code",
   "execution_count": null,
   "id": "524eb5e8-9e59-4a29-9e66-51e802ee12ca",
   "metadata": {},
   "outputs": [],
   "source": []
  }
 ],
 "metadata": {
  "kernelspec": {
   "display_name": "Python 3 (ipykernel)",
   "language": "python",
   "name": "python3"
  },
  "language_info": {
   "codemirror_mode": {
    "name": "ipython",
    "version": 3
   },
   "file_extension": ".py",
   "mimetype": "text/x-python",
   "name": "python",
   "nbconvert_exporter": "python",
   "pygments_lexer": "ipython3",
   "version": "3.12.7"
  }
 },
 "nbformat": 4,
 "nbformat_minor": 5
}
